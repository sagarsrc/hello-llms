{
 "cells": [
  {
   "cell_type": "markdown",
   "id": "eb3c06f2-ed84-4038-98bd-cc47d012ca3f",
   "metadata": {
    "id": "eb3c06f2-ed84-4038-98bd-cc47d012ca3f"
   },
   "source": [
    "# Setup"
   ]
  },
  {
   "cell_type": "code",
   "execution_count": 1,
   "id": "caab04c7-95c9-469e-91a4-e36130720122",
   "metadata": {
    "id": "caab04c7-95c9-469e-91a4-e36130720122"
   },
   "outputs": [],
   "source": [
    "# %load_ext lab_black"
   ]
  },
  {
   "cell_type": "code",
   "execution_count": 2,
   "id": "5c7c3aff-875e-46aa-af63-3e7a0648da07",
   "metadata": {
    "id": "5c7c3aff-875e-46aa-af63-3e7a0648da07"
   },
   "outputs": [],
   "source": [
    "# ! pip install torch==1.13.1 --quiet\n",
    "# ! pip install torchdata==0.5.1 --quiet\n",
    "# ! pip install transformers==4.27.2 datasets==2.11.0 --quiet\n",
    "# ! pip install py7zr --quiet\n",
    "# ! pip3 install evaluate==0.4.0 rouge_score==0.1.2 loralib==0.1.2 --quiet\n",
    "# ! pip3 install peft --quiet\n",
    "# ! pip3 install numerize --quiet"
   ]
  },
  {
   "cell_type": "code",
   "execution_count": 3,
   "id": "99a52a49-48cf-487c-b8fa-0d783be81b69",
   "metadata": {
    "id": "99a52a49-48cf-487c-b8fa-0d783be81b69"
   },
   "outputs": [],
   "source": [
    "import os\n",
    "import textwrap\n",
    "import pandas as pd\n",
    "import numpy as np\n",
    "from pprint import pprint\n",
    "import random\n",
    "from numerize import numerize\n",
    "from tqdm.auto import tqdm\n",
    "import time\n",
    "\n",
    "import torch\n",
    "\n",
    "from datasets import load_dataset\n",
    "from transformers import AutoModelForSeq2SeqLM\n",
    "from transformers import AutoTokenizer\n",
    "from transformers import GenerationConfig\n",
    "from transformers import TrainingArguments, Trainer, Seq2SeqTrainingArguments\n",
    "import evaluate"
   ]
  },
  {
   "cell_type": "code",
   "execution_count": 4,
   "id": "7e3c0c9c-88ab-421b-8978-8bfcc4f6ebcd",
   "metadata": {
    "id": "7e3c0c9c-88ab-421b-8978-8bfcc4f6ebcd",
    "tags": []
   },
   "outputs": [],
   "source": [
    "# some util functions\n",
    "print_dashes = lambda: print(\"-\" * 80)\n",
    "txtwrap = lambda text: textwrap.fill(text, width=80)\n",
    "print_dialogue = lambda x: [print(txtwrap(text=i)) for i in x.split(\"\\n\")]"
   ]
  },
  {
   "cell_type": "markdown",
   "id": "46fd69ff-a535-42a0-9a7a-9cf2dd452557",
   "metadata": {
    "id": "46fd69ff-a535-42a0-9a7a-9cf2dd452557"
   },
   "source": [
    "# data load"
   ]
  },
  {
   "cell_type": "code",
   "execution_count": 5,
   "id": "6403a685-05f9-429a-b6fa-50fc80b62c8d",
   "metadata": {
    "colab": {
     "base_uri": "https://localhost:8080/",
     "height": 87,
     "referenced_widgets": [
      "536a836f16d64b60ae565e716e5a8ad1",
      "480609d67a7a45bb858bea45e0fa12a5",
      "2033f57d399148c59fc439b139806834",
      "e00cd0a28a3d443bb953b5d718249236",
      "78fb1adc01b8492e8befd3720ca5cfd9",
      "84e261739b3241868eacd024a91624a3",
      "75cf0f57f845409c8324b521ee197d27",
      "f27751680a684bf48572b0be2d7ba4e9",
      "873753d4c0f14671a859d926d7884fcc",
      "9186810cd26e4e42adc0f26652584fb9",
      "6fae18c5b7b8443da01bee1dccee9aac"
     ]
    },
    "id": "6403a685-05f9-429a-b6fa-50fc80b62c8d",
    "outputId": "12899bac-0d50-49db-b0e4-7e2668915871"
   },
   "outputs": [
    {
     "name": "stderr",
     "output_type": "stream",
     "text": [
      "WARNING:datasets.builder:Found cached dataset csv (/root/.cache/huggingface/datasets/knkarthick___csv/knkarthick--dialogsum-931380d0e19583fc/0.0.0/6954658bab30a358235fa864b05cf819af0e179325c740e4bc853bcc7ec513e1)\n"
     ]
    },
    {
     "data": {
      "application/vnd.jupyter.widget-view+json": {
       "model_id": "536a836f16d64b60ae565e716e5a8ad1",
       "version_major": 2,
       "version_minor": 0
      },
      "text/plain": [
       "  0%|          | 0/3 [00:00<?, ?it/s]"
      ]
     },
     "metadata": {},
     "output_type": "display_data"
    }
   ],
   "source": [
    "huggingface_dataset_name = \"knkarthick/dialogsum\"\n",
    "dataset = load_dataset(huggingface_dataset_name)"
   ]
  },
  {
   "cell_type": "code",
   "execution_count": 6,
   "id": "37a4c583-e5a9-424b-8c28-eb77c3a5d5f0",
   "metadata": {
    "colab": {
     "base_uri": "https://localhost:8080/"
    },
    "id": "37a4c583-e5a9-424b-8c28-eb77c3a5d5f0",
    "outputId": "0b29352c-dded-4ab6-a5e8-891243cff63f",
    "tags": []
   },
   "outputs": [
    {
     "name": "stdout",
     "output_type": "stream",
     "text": [
      "{'dialogue': '#Person1#: How old is Keith?\\n'\n",
      "             \"#Person2#: He's 21. how old is James?\\n\"\n",
      "             \"#Person1#: He's a year older than Keith, but he looks younger.\\n\"\n",
      "             \"#Person2#: How's your father?\\n\"\n",
      "             \"#Person1#: He's fine. He retired last week. It's turning going \"\n",
      "             'in his life. Now he can relax and enjoy his retirement.\\n'\n",
      "             '#Person2#: He can spend more time with his grandchildren.\\n'\n",
      "             \"#Person1#: Oh, I don't think he wants to. He wants to travel to \"\n",
      "             'several different countries around the world.\\n'\n",
      "             '#Person2#: So, he wants to have a more active retirement. Good '\n",
      "             'idea!\\n'\n",
      "             '#Person1#: How do you want to spend your old age?\\n'\n",
      "             '#Person2#: In the same way, probably.',\n",
      " 'id': 'train_13',\n",
      " 'summary': \"#Person1# and #Person2# are talking about their families' ages. \"\n",
      "            \"#Person2#'s father wants to travel around the world after \"\n",
      "            'retirement.',\n",
      " 'topic': 'age'}\n"
     ]
    }
   ],
   "source": [
    "# single data point\n",
    "pprint(dataset[\"train\"][13])"
   ]
  },
  {
   "cell_type": "markdown",
   "id": "cc326214-dc90-4aef-8da2-d66e05a41a75",
   "metadata": {
    "id": "cc326214-dc90-4aef-8da2-d66e05a41a75"
   },
   "source": [
    "# load model"
   ]
  },
  {
   "cell_type": "markdown",
   "id": "b61dd2c6-e6b9-4856-8e28-35cd9f21a84c",
   "metadata": {
    "id": "b61dd2c6-e6b9-4856-8e28-35cd9f21a84c"
   },
   "source": [
    "- Load model with special dtype that optimizes for memory.\n",
    "- bfloat16 is a dtype that was developed by google brain\n",
    "- it is 16 bit representation of 32 bit floating point\n",
    "- [more about blfoat16](https://cloud.google.com/tpu/docs/bfloat16)"
   ]
  },
  {
   "cell_type": "code",
   "execution_count": 7,
   "id": "ce7ae67b-ee02-4898-87db-b31fcbf6d192",
   "metadata": {
    "id": "ce7ae67b-ee02-4898-87db-b31fcbf6d192",
    "tags": []
   },
   "outputs": [],
   "source": [
    "model_id = \"google/flan-t5-base\"\n",
    "\n",
    "# Load tokenizer of FLAN-t5-small\n",
    "tokenizer = AutoTokenizer.from_pretrained(model_id, torch_dtype=torch.bfloat16)\n",
    "\n",
    "# Load model\n",
    "model = AutoModelForSeq2SeqLM.from_pretrained(model_id, torch_dtype=torch.bfloat16)"
   ]
  },
  {
   "cell_type": "markdown",
   "id": "7d8a23de-29bc-4b5f-8511-ea26416fb1d3",
   "metadata": {
    "id": "7d8a23de-29bc-4b5f-8511-ea26416fb1d3"
   },
   "source": [
    "# prepare dataset"
   ]
  },
  {
   "cell_type": "markdown",
   "id": "48dd64e4-4966-4d33-9224-94256617380b",
   "metadata": {
    "id": "48dd64e4-4966-4d33-9224-94256617380b"
   },
   "source": [
    "Here we convert data points in model consumable format"
   ]
  },
  {
   "cell_type": "markdown",
   "id": "bcc10411-a5af-4202-a463-e36dd86dce6a",
   "metadata": {
    "id": "bcc10411-a5af-4202-a463-e36dd86dce6a"
   },
   "source": [
    "```python\n",
    "\n",
    "{\n",
    " # raw data   \n",
    " 'id': 'train_13',\n",
    " 'dialogue': \"#Person1#: How old is Keith?\\n#Person2#: He's 21. how old is James?\\n#Person1#: He's a year older than Keith, but he looks younger.\\n#Person2#: How's your father?\\n#Person1#: He's fine. He retired last week. It's turning going in his life. Now he can relax and enjoy his retirement.\\n#Person2#: He can spend more time with his grandchildren.\\n#Person1#: Oh, I don't think he wants to. He wants to travel to several different countries around the world.\\n#Person2#: So, he wants to have a more active retirement. Good idea!\\n#Person1#: How do you want to spend your old age?\\n#Person2#: In the same way, probably.\",\n",
    " 'summary': \"#Person1# and #Person2# are talking about their families' ages. #Person2#'s father wants to travel around the world after retirement.\",\n",
    " 'topic': 'age',\n",
    "\n",
    " # transformed data\n",
    " # - these are token ids of each token of DIALOGUE as generated by tokenizer\n",
    " 'input_ids': tensor([[ 8779,   140,   125,  2817,    16,    48,  3582,     5,  1713,   345,\n",
    "          13515,   536,  4663,    10,   571,   625,    19, 17017,    58,  1713,\n",
    "            345, 13515,   357,  4663,    10,   216,    31,     7,  1401,     5,\n",
    "            149,   625,    19,  2549,    58,  1713,   345, 13515,   536,  4663,\n",
    "              ...\n",
    "              0,     0,     0,     0,     0,     0,     0,     0,     0,     0,\n",
    "              0,     0]]),\n",
    "\n",
    " # - these are token ids of each token of SUMMARY as generated by tokenizer\n",
    " 'labels': tensor([[ 1713,   345, 13515,   536,  4663,    11,  1713,   345, 13515,   357,\n",
    "           4663,    33,  2508,    81,    70,  1791,    31,     3,  2568,     5,\n",
    "           1713,   345, 13515,   357,  4663,    31,     7,  2353,  2746,    12,\n",
    "           1111,   300,     8,   296,   227,  6576,     5,     1,     0,     0,\n",
    "              ...\n",
    "\n",
    "              0,     0,     0,     0,     0,     0,     0,     0,     0,     0,\n",
    "              0,     0]])}\n",
    "```"
   ]
  },
  {
   "cell_type": "markdown",
   "id": "2ba3697a-41e8-4510-b48b-6fc7c3730a0b",
   "metadata": {
    "id": "2ba3697a-41e8-4510-b48b-6fc7c3730a0b"
   },
   "source": [
    "- Each model has its maximum sequence length\n",
    "- We need to handle this while tokenizing the text sequences for fine tuning\n",
    "- We get error of this kind if we pass a sequence longer than that required by the model\n",
    "\n",
    "```Token indices sequence length is longer than the specified maximum sequence length for this model (522 > 512).\n",
    "Running this sequence through the model will result in indexing errors```\n",
    "\n",
    "- Special methods like padding and truncation exist to handle cases of sequence length"
   ]
  },
  {
   "cell_type": "code",
   "execution_count": 8,
   "id": "SOQ4d-2S9Ked",
   "metadata": {
    "colab": {
     "base_uri": "https://localhost:8080/"
    },
    "id": "SOQ4d-2S9Ked",
    "outputId": "03291210-705f-447b-a051-20fdadb2b655"
   },
   "outputs": [
    {
     "name": "stderr",
     "output_type": "stream",
     "text": [
      "WARNING:datasets.arrow_dataset:Loading cached processed dataset at /root/.cache/huggingface/datasets/knkarthick___csv/knkarthick--dialogsum-931380d0e19583fc/0.0.0/6954658bab30a358235fa864b05cf819af0e179325c740e4bc853bcc7ec513e1/cache-d60e7f8e90624856.arrow\n",
      "WARNING:datasets.arrow_dataset:Loading cached processed dataset at /root/.cache/huggingface/datasets/knkarthick___csv/knkarthick--dialogsum-931380d0e19583fc/0.0.0/6954658bab30a358235fa864b05cf819af0e179325c740e4bc853bcc7ec513e1/cache-9b2c6eb280ae555c.arrow\n"
     ]
    },
    {
     "name": "stdout",
     "output_type": "stream",
     "text": [
      "Max source length: 512\n",
      "Max target length: 277\n"
     ]
    }
   ],
   "source": [
    "from datasets import concatenate_datasets\n",
    "\n",
    "# The maximum total input sequence length after tokenization.\n",
    "# Sequences longer than this will be truncated, sequences shorter will be padded.\n",
    "tokenized_inputs = concatenate_datasets([dataset[\"train\"], dataset[\"test\"]]).map(\n",
    "    lambda x: tokenizer(x[\"dialogue\"], truncation=True),\n",
    "    batched=True,\n",
    "    remove_columns=[\"dialogue\", \"summary\"],\n",
    ")\n",
    "max_source_length = max([len(x) for x in tokenized_inputs[\"input_ids\"]])\n",
    "print(f\"Max source length: {max_source_length}\")\n",
    "\n",
    "# The maximum total sequence length for target text after tokenization.\n",
    "# Sequences longer than this will be truncated, sequences shorter will be padded.\"\n",
    "tokenized_targets = concatenate_datasets([dataset[\"train\"], dataset[\"test\"]]).map(\n",
    "    lambda x: tokenizer(x[\"summary\"], truncation=True),\n",
    "    batched=True,\n",
    "    remove_columns=[\"dialogue\", \"summary\"],\n",
    ")\n",
    "max_target_length = max([len(x) for x in tokenized_targets[\"input_ids\"]])\n",
    "print(f\"Max target length: {max_target_length}\")"
   ]
  },
  {
   "cell_type": "code",
   "execution_count": 9,
   "id": "f4d71c54-b24a-4c45-b378-92bdc9890efa",
   "metadata": {
    "colab": {
     "base_uri": "https://localhost:8080/"
    },
    "id": "f4d71c54-b24a-4c45-b378-92bdc9890efa",
    "outputId": "223fef66-1435-48a4-a717-e2f52785499f",
    "tags": []
   },
   "outputs": [
    {
     "name": "stderr",
     "output_type": "stream",
     "text": [
      "WARNING:datasets.arrow_dataset:Loading cached processed dataset at /root/.cache/huggingface/datasets/knkarthick___csv/knkarthick--dialogsum-931380d0e19583fc/0.0.0/6954658bab30a358235fa864b05cf819af0e179325c740e4bc853bcc7ec513e1/cache-6b12385e13ab8191.arrow\n",
      "WARNING:datasets.arrow_dataset:Loading cached processed dataset at /root/.cache/huggingface/datasets/knkarthick___csv/knkarthick--dialogsum-931380d0e19583fc/0.0.0/6954658bab30a358235fa864b05cf819af0e179325c740e4bc853bcc7ec513e1/cache-fc6f8a7fcdaad9d8.arrow\n",
      "WARNING:datasets.arrow_dataset:Loading cached processed dataset at /root/.cache/huggingface/datasets/knkarthick___csv/knkarthick--dialogsum-931380d0e19583fc/0.0.0/6954658bab30a358235fa864b05cf819af0e179325c740e4bc853bcc7ec513e1/cache-a9bc23f74fd54b33.arrow\n"
     ]
    }
   ],
   "source": [
    "def summary_task_tokenize_util(sample, tokenizer, padding=\"max_length\"):\n",
    "    print(\"batch_size\", len(sample[\"dialogue\"]))\n",
    "\n",
    "    # get each dialog in a batch and add instruction\n",
    "    inputs = [f\"Summarize:\\n\" + item for item in sample[\"dialogue\"]]\n",
    "\n",
    "    # tokenize each input in a batch\n",
    "    model_inputs = tokenizer(\n",
    "        inputs, max_length=max_source_length, padding=padding, truncation=True\n",
    "    )\n",
    "\n",
    "    # labels\n",
    "    labels = tokenizer(\n",
    "        text_target=sample[\"summary\"],\n",
    "        max_length=max_target_length,\n",
    "        padding=padding,\n",
    "        truncation=True,\n",
    "    )\n",
    "\n",
    "    # batch label cleaning\n",
    "    # remove tokenizer pad_token and default to -100\n",
    "    # if valid label i.e if not tokenizer pad_token keep token as it is\n",
    "    if padding == \"max_length\":\n",
    "        labels[\"input_ids\"] = [\n",
    "            [(l if l != tokenizer.pad_token_id else -100) for l in label]\n",
    "            for label in labels[\"input_ids\"]\n",
    "        ]\n",
    "\n",
    "    model_inputs[\"labels\"] = labels[\"input_ids\"]\n",
    "\n",
    "    ############################################################\n",
    "    # ^^^^^ setup inputs and outputs for the model ^^^^^\n",
    "    # tokenize prompt for model fine tuning\n",
    "    # for parallelization we need to make sure that model receives same sized vectors\n",
    "    # due to varying sizes of text sequences the sequence can be shorter or longer\n",
    "    # - padding if input length is shorter than that required by the model\n",
    "    # - truncation if input length is greater than that required by model\n",
    "\n",
    "    # more about padding and truncation here\n",
    "    # https://huggingface.co/docs/transformers/pad_truncation\n",
    "    ############################################################\n",
    "\n",
    "    ############################################################\n",
    "    # more optimized way for padding\n",
    "    # transformers.DataCollatorForSeq2Seq\n",
    "    # it dynamically pads sequences as it receives labels\n",
    "    ############################################################\n",
    "\n",
    "    return model_inputs\n",
    "\n",
    "\n",
    "# sample test\n",
    "# t = summary_task_tokenize_util(sample=dataset[\"train\"][1000], tokenizer=tokenizer)\n",
    "# t[\"input_ids\"].shape\n",
    "\n",
    "# mapping this function across the dataset\n",
    "# - todo batched = True not working figure this out later\n",
    "tokenized_datasets = dataset.map(\n",
    "    summary_task_tokenize_util,\n",
    "    batched=True,\n",
    "    fn_kwargs={\"tokenizer\": tokenizer},\n",
    "    remove_columns=[\"id\", \"topic\", \"dialogue\", \"summary\"],\n",
    ")"
   ]
  },
  {
   "cell_type": "code",
   "execution_count": 10,
   "id": "2af18ea4-1bc1-4dd8-a62d-b8e00dbdc8f5",
   "metadata": {
    "colab": {
     "base_uri": "https://localhost:8080/"
    },
    "id": "2af18ea4-1bc1-4dd8-a62d-b8e00dbdc8f5",
    "outputId": "26608200-fcdb-49bb-82a3-4b811748ff53",
    "tags": []
   },
   "outputs": [
    {
     "data": {
      "text/plain": [
       "DatasetDict({\n",
       "    train: Dataset({\n",
       "        features: ['input_ids', 'attention_mask', 'labels'],\n",
       "        num_rows: 12460\n",
       "    })\n",
       "    test: Dataset({\n",
       "        features: ['input_ids', 'attention_mask', 'labels'],\n",
       "        num_rows: 1500\n",
       "    })\n",
       "    validation: Dataset({\n",
       "        features: ['input_ids', 'attention_mask', 'labels'],\n",
       "        num_rows: 500\n",
       "    })\n",
       "})"
      ]
     },
     "execution_count": 10,
     "metadata": {},
     "output_type": "execute_result"
    }
   ],
   "source": [
    "tokenized_datasets"
   ]
  },
  {
   "cell_type": "code",
   "execution_count": 11,
   "id": "5d0f9e33-b8f7-4cf4-9f9f-d88259447941",
   "metadata": {
    "colab": {
     "base_uri": "https://localhost:8080/"
    },
    "id": "5d0f9e33-b8f7-4cf4-9f9f-d88259447941",
    "outputId": "45e1b2cc-19a9-4335-9501-dd4063fb5ddf",
    "tags": []
   },
   "outputs": [
    {
     "name": "stderr",
     "output_type": "stream",
     "text": [
      "WARNING:datasets.arrow_dataset:Loading cached processed dataset at /root/.cache/huggingface/datasets/knkarthick___csv/knkarthick--dialogsum-931380d0e19583fc/0.0.0/6954658bab30a358235fa864b05cf819af0e179325c740e4bc853bcc7ec513e1/cache-4d76346642d7c905.arrow\n",
      "WARNING:datasets.arrow_dataset:Loading cached processed dataset at /root/.cache/huggingface/datasets/knkarthick___csv/knkarthick--dialogsum-931380d0e19583fc/0.0.0/6954658bab30a358235fa864b05cf819af0e179325c740e4bc853bcc7ec513e1/cache-7ee1f87edde31c9c.arrow\n",
      "WARNING:datasets.arrow_dataset:Loading cached processed dataset at /root/.cache/huggingface/datasets/knkarthick___csv/knkarthick--dialogsum-931380d0e19583fc/0.0.0/6954658bab30a358235fa864b05cf819af0e179325c740e4bc853bcc7ec513e1/cache-f17c94d5aeb0a2a6.arrow\n"
     ]
    }
   ],
   "source": [
    "# reducing size of dataset by filtering for finetuning on small set\n",
    "tokenized_datasets = tokenized_datasets.filter(\n",
    "    lambda example, index: index % 100 == 0, with_indices=True\n",
    ")"
   ]
  },
  {
   "cell_type": "code",
   "execution_count": 12,
   "id": "046811c4-8e93-44dc-b770-43a9f20b4882",
   "metadata": {
    "colab": {
     "base_uri": "https://localhost:8080/"
    },
    "id": "046811c4-8e93-44dc-b770-43a9f20b4882",
    "outputId": "2d0734a8-75ee-4e57-da5d-2a829dfaa5a0",
    "tags": []
   },
   "outputs": [
    {
     "data": {
      "text/plain": [
       "125"
      ]
     },
     "execution_count": 12,
     "metadata": {},
     "output_type": "execute_result"
    }
   ],
   "source": [
    "len(tokenized_datasets[\"train\"])"
   ]
  },
  {
   "cell_type": "markdown",
   "id": "6f7f71db-75ff-4088-9326-eafa8b622430",
   "metadata": {
    "id": "6f7f71db-75ff-4088-9326-eafa8b622430"
   },
   "source": [
    "# total parameters"
   ]
  },
  {
   "cell_type": "code",
   "execution_count": 13,
   "id": "269b5dac-11b8-421e-b686-41e0dc5cdca1",
   "metadata": {
    "colab": {
     "base_uri": "https://localhost:8080/"
    },
    "id": "269b5dac-11b8-421e-b686-41e0dc5cdca1",
    "outputId": "f7933cfa-a62a-46f7-ceea-6184c6d72bcf",
    "tags": []
   },
   "outputs": [
    {
     "name": "stdout",
     "output_type": "stream",
     "text": [
      "total number of parameters : 247.58M\n"
     ]
    }
   ],
   "source": [
    "total_params = sum(p.numel() for p in model.parameters() if p.requires_grad)\n",
    "# numel returns total number of elements in the tensor\n",
    "# summing number of elements in each set of parameters will give us total parameters\n",
    "\n",
    "print(f\"\"\"total number of parameters : {numerize.numerize(total_params)}\"\"\")"
   ]
  },
  {
   "cell_type": "markdown",
   "id": "ZgxdrRShK_nT",
   "metadata": {
    "id": "ZgxdrRShK_nT"
   },
   "source": [
    "# total parameters using PEFT - LoRA\n",
    "reference : https://huggingface.co/docs/peft/conceptual_guides/lora\n"
   ]
  },
  {
   "cell_type": "code",
   "execution_count": 14,
   "id": "dKX2CSbrLHyr",
   "metadata": {
    "colab": {
     "base_uri": "https://localhost:8080/"
    },
    "id": "dKX2CSbrLHyr",
    "outputId": "1881148d-ffef-416b-b473-b857d8bbf34c"
   },
   "outputs": [
    {
     "data": {
      "text/plain": [
       "LoraConfig(peft_type=<PeftType.LORA: 'LORA'>, auto_mapping=None, base_model_name_or_path=None, revision=None, task_type=<TaskType.SEQ_2_SEQ_LM: 'SEQ_2_SEQ_LM'>, inference_mode=False, r=16, target_modules=['q', 'v'], lora_alpha=16, lora_dropout=0.05, fan_in_fan_out=False, bias='none', modules_to_save=None, init_lora_weights=True, layers_to_transform=None, layers_pattern=None)"
      ]
     },
     "execution_count": 14,
     "metadata": {},
     "output_type": "execute_result"
    }
   ],
   "source": [
    "from peft import LoraConfig, get_peft_model, TaskType\n",
    "\n",
    "target_modules = [\"q\", \"v\"]  # using LoRA for attention modules only\n",
    "lora_config = LoraConfig(\n",
    "    r=16,\n",
    "    target_modules=target_modules,\n",
    "    lora_alpha=16,\n",
    "    lora_dropout=0.05,\n",
    "    bias=\"none\",\n",
    "    task_type=TaskType.SEQ_2_SEQ_LM,  # specify task\n",
    ")\n",
    "lora_config"
   ]
  },
  {
   "cell_type": "code",
   "execution_count": 15,
   "id": "oddTdkwyTM9I",
   "metadata": {
    "colab": {
     "base_uri": "https://localhost:8080/"
    },
    "id": "oddTdkwyTM9I",
    "outputId": "02d555a1-758c-4e5d-cc63-d6a6250f41cd"
   },
   "outputs": [
    {
     "name": "stdout",
     "output_type": "stream",
     "text": [
      "total number of parameters in PEFT model: 1.77M\n"
     ]
    }
   ],
   "source": [
    "peft_model = get_peft_model(model, lora_config)\n",
    "\n",
    "total_params_peft = sum(p.numel() for p in model.parameters() if p.requires_grad)\n",
    "print(\n",
    "    f\"\"\"total number of parameters in PEFT model: {numerize.numerize(total_params_peft)}\"\"\"\n",
    ")"
   ]
  },
  {
   "cell_type": "code",
   "execution_count": 16,
   "id": "9UdVqwlHTqBM",
   "metadata": {
    "colab": {
     "base_uri": "https://localhost:8080/"
    },
    "id": "9UdVqwlHTqBM",
    "outputId": "4e8ff235-b14f-48bb-e3af-9aebeb722082"
   },
   "outputs": [
    {
     "name": "stdout",
     "output_type": "stream",
     "text": [
      "reduction in number of paramters : 99.29\n"
     ]
    }
   ],
   "source": [
    "print(\n",
    "    f\"reduction in number of paramters : {round((total_params - total_params_peft)*100/total_params,2)}\"\n",
    ")"
   ]
  },
  {
   "cell_type": "code",
   "execution_count": 17,
   "id": "zcIVcL16kzZj",
   "metadata": {
    "colab": {
     "base_uri": "https://localhost:8080/"
    },
    "id": "zcIVcL16kzZj",
    "outputId": "bd63abe6-936d-4afa-90cd-abbff3fe7bf1"
   },
   "outputs": [
    {
     "name": "stdout",
     "output_type": "stream",
     "text": [
      "trainable params: 1,769,472 || all params: 249,347,328 || trainable%: 0.7096414524241463\n"
     ]
    }
   ],
   "source": [
    "peft_model.print_trainable_parameters()"
   ]
  },
  {
   "cell_type": "markdown",
   "id": "09d653aa-980b-4104-b63f-aa62a8be04e5",
   "metadata": {
    "id": "09d653aa-980b-4104-b63f-aa62a8be04e5"
   },
   "source": [
    "# fine tuning LLM"
   ]
  },
  {
   "cell_type": "markdown",
   "id": "bffdd21f-3177-4deb-aa9f-113263ee1b01",
   "metadata": {
    "id": "bffdd21f-3177-4deb-aa9f-113263ee1b01"
   },
   "source": [
    "# rouge_score"
   ]
  },
  {
   "cell_type": "code",
   "execution_count": 18,
   "id": "0f863cac-8b88-4179-902a-5798182a1de4",
   "metadata": {
    "id": "0f863cac-8b88-4179-902a-5798182a1de4",
    "tags": []
   },
   "outputs": [],
   "source": [
    "rouge = evaluate.load(\"rouge\")\n",
    "\n",
    "\n",
    "def compute_metrics(eval_pred):\n",
    "    \"\"\"\n",
    "    Reference : https://huggingface.co/docs/transformers/tasks/summarization\n",
    "    \"\"\"\n",
    "\n",
    "    # get predictions and ground truth\n",
    "    predictions, labels = eval_pred\n",
    "\n",
    "    # decode prediction token ids\n",
    "    decoded_preds = tokenizer.batch_decode(predictions, skip_special_tokens=True)\n",
    "\n",
    "    # decode ground truth token ids\n",
    "    # -100 is pad token id in NLP tasks\n",
    "    labels = np.where(labels != -100, labels, tokenizer.pad_token_id)\n",
    "    decoded_labels = tokenizer.batch_decode(labels, skip_special_tokens=True)\n",
    "\n",
    "    # use decoded_preds, decoded_labels to get rouge score\n",
    "    result = rouge.compute(\n",
    "        predictions=decoded_preds, references=decoded_labels, use_stemmer=True\n",
    "    )\n",
    "\n",
    "    prediction_lens = [\n",
    "        np.count_nonzero(pred != tokenizer.pad_token_id) for pred in predictions\n",
    "    ]\n",
    "    result[\"gen_len\"] = np.mean(prediction_lens)\n",
    "\n",
    "    return {k: round(v, 4) for k, v in result.items()}"
   ]
  },
  {
   "cell_type": "code",
   "execution_count": 19,
   "id": "ERXM0IatB8rP",
   "metadata": {
    "id": "ERXM0IatB8rP"
   },
   "outputs": [],
   "source": [
    "from transformers import DataCollatorForSeq2Seq\n",
    "\n",
    "# we want to ignore tokenizer pad token in the loss\n",
    "label_pad_token_id = -100\n",
    "\n",
    "# Data collator\n",
    "data_collator = DataCollatorForSeq2Seq(\n",
    "    tokenizer, model=model, label_pad_token_id=label_pad_token_id, pad_to_multiple_of=8\n",
    ")"
   ]
  },
  {
   "cell_type": "markdown",
   "id": "byCRPc3FZMfk",
   "metadata": {
    "id": "byCRPc3FZMfk"
   },
   "source": [
    "# init PEFT trainer"
   ]
  },
  {
   "cell_type": "code",
   "execution_count": 20,
   "id": "1a0f9e59-6372-4e25-8455-e29658f68996",
   "metadata": {
    "id": "1a0f9e59-6372-4e25-8455-e29658f68996",
    "tags": []
   },
   "outputs": [],
   "source": [
    "from huggingface_hub import HfFolder\n",
    "from transformers import Seq2SeqTrainer, Seq2SeqTrainingArguments\n",
    "\n",
    "# Hugging Face repository id\n",
    "# repository_id = f\"{model_id.split('/')[1]}-{dataset_id}\"\n",
    "\n",
    "output_dir = f\"./models-peft\"\n",
    "\n",
    "# Define training args\n",
    "peft_training_args = Seq2SeqTrainingArguments(\n",
    "    # learning\n",
    "    per_device_train_batch_size=8,\n",
    "    per_device_eval_batch_size=8,\n",
    "    learning_rate=1e-3,\n",
    "    num_train_epochs=10,\n",
    "    fp16=False,  # Overflows with fp16\n",
    "    # logging\n",
    "    logging_dir=f\"./logs\",\n",
    "    logging_strategy=\"steps\",\n",
    "    logging_steps=100,\n",
    "    report_to=\"tensorboard\",\n",
    "    # evaluation\n",
    "    predict_with_generate=True,\n",
    "    evaluation_strategy=\"epoch\",\n",
    "    # checkpointing\n",
    "    output_dir=output_dir,\n",
    "    save_strategy=\"epoch\",\n",
    "    save_total_limit=2,\n",
    "    load_best_model_at_end=True,\n",
    ")\n",
    "\n",
    "peft_trainer = Seq2SeqTrainer(\n",
    "    model=peft_model,\n",
    "    args=peft_training_args,\n",
    "    data_collator=data_collator,\n",
    "    train_dataset=tokenized_datasets[\"train\"],\n",
    "    eval_dataset=tokenized_datasets[\"test\"],\n",
    "    compute_metrics=compute_metrics,\n",
    ")"
   ]
  },
  {
   "cell_type": "code",
   "execution_count": 21,
   "id": "4umWvZeN8pA5",
   "metadata": {
    "colab": {
     "base_uri": "https://localhost:8080/",
     "height": 498
    },
    "id": "4umWvZeN8pA5",
    "outputId": "18bcfb91-2bd9-4d65-b465-3dd6fdfb0f46"
   },
   "outputs": [
    {
     "name": "stderr",
     "output_type": "stream",
     "text": [
      "/usr/local/lib/python3.10/dist-packages/transformers/optimization.py:391: FutureWarning: This implementation of AdamW is deprecated and will be removed in a future version. Use the PyTorch implementation torch.optim.AdamW instead, or set `no_deprecation_warning=True` to disable this warning\n",
      "  warnings.warn(\n",
      "You're using a T5TokenizerFast tokenizer. Please note that with a fast tokenizer, using the `__call__` method is faster than using a method to encode the text followed by a call to the `pad` method to get a padded encoding.\n"
     ]
    },
    {
     "data": {
      "text/html": [
       "\n",
       "    <div>\n",
       "      \n",
       "      <progress value='160' max='160' style='width:300px; height:20px; vertical-align: middle;'></progress>\n",
       "      [160/160 05:06, Epoch 10/10]\n",
       "    </div>\n",
       "    <table border=\"1\" class=\"dataframe\">\n",
       "  <thead>\n",
       " <tr style=\"text-align: left;\">\n",
       "      <th>Epoch</th>\n",
       "      <th>Training Loss</th>\n",
       "      <th>Validation Loss</th>\n",
       "      <th>Rouge1</th>\n",
       "      <th>Rouge2</th>\n",
       "      <th>Rougel</th>\n",
       "      <th>Rougelsum</th>\n",
       "      <th>Gen Len</th>\n",
       "    </tr>\n",
       "  </thead>\n",
       "  <tbody>\n",
       "    <tr>\n",
       "      <td>1</td>\n",
       "      <td>No log</td>\n",
       "      <td>1.350000</td>\n",
       "      <td>0.283500</td>\n",
       "      <td>0.063700</td>\n",
       "      <td>0.232600</td>\n",
       "      <td>0.232400</td>\n",
       "      <td>19.000000</td>\n",
       "    </tr>\n",
       "    <tr>\n",
       "      <td>2</td>\n",
       "      <td>No log</td>\n",
       "      <td>1.264063</td>\n",
       "      <td>0.339700</td>\n",
       "      <td>0.098500</td>\n",
       "      <td>0.261900</td>\n",
       "      <td>0.261500</td>\n",
       "      <td>18.666700</td>\n",
       "    </tr>\n",
       "    <tr>\n",
       "      <td>3</td>\n",
       "      <td>No log</td>\n",
       "      <td>1.260417</td>\n",
       "      <td>0.364400</td>\n",
       "      <td>0.121300</td>\n",
       "      <td>0.284500</td>\n",
       "      <td>0.283500</td>\n",
       "      <td>18.666700</td>\n",
       "    </tr>\n",
       "    <tr>\n",
       "      <td>4</td>\n",
       "      <td>No log</td>\n",
       "      <td>1.260937</td>\n",
       "      <td>0.353300</td>\n",
       "      <td>0.119500</td>\n",
       "      <td>0.280300</td>\n",
       "      <td>0.280200</td>\n",
       "      <td>18.933300</td>\n",
       "    </tr>\n",
       "    <tr>\n",
       "      <td>5</td>\n",
       "      <td>No log</td>\n",
       "      <td>1.248958</td>\n",
       "      <td>0.366400</td>\n",
       "      <td>0.117800</td>\n",
       "      <td>0.269900</td>\n",
       "      <td>0.268700</td>\n",
       "      <td>18.933300</td>\n",
       "    </tr>\n",
       "    <tr>\n",
       "      <td>6</td>\n",
       "      <td>No log</td>\n",
       "      <td>1.260937</td>\n",
       "      <td>0.385400</td>\n",
       "      <td>0.128500</td>\n",
       "      <td>0.295400</td>\n",
       "      <td>0.295000</td>\n",
       "      <td>18.933300</td>\n",
       "    </tr>\n",
       "    <tr>\n",
       "      <td>7</td>\n",
       "      <td>1.292800</td>\n",
       "      <td>1.245833</td>\n",
       "      <td>0.352300</td>\n",
       "      <td>0.105700</td>\n",
       "      <td>0.277300</td>\n",
       "      <td>0.277500</td>\n",
       "      <td>18.933300</td>\n",
       "    </tr>\n",
       "    <tr>\n",
       "      <td>8</td>\n",
       "      <td>1.292800</td>\n",
       "      <td>1.261458</td>\n",
       "      <td>0.374900</td>\n",
       "      <td>0.123300</td>\n",
       "      <td>0.290800</td>\n",
       "      <td>0.290300</td>\n",
       "      <td>19.000000</td>\n",
       "    </tr>\n",
       "    <tr>\n",
       "      <td>9</td>\n",
       "      <td>1.292800</td>\n",
       "      <td>1.253646</td>\n",
       "      <td>0.388700</td>\n",
       "      <td>0.130700</td>\n",
       "      <td>0.301800</td>\n",
       "      <td>0.301400</td>\n",
       "      <td>19.000000</td>\n",
       "    </tr>\n",
       "    <tr>\n",
       "      <td>10</td>\n",
       "      <td>1.292800</td>\n",
       "      <td>1.257812</td>\n",
       "      <td>0.369500</td>\n",
       "      <td>0.112100</td>\n",
       "      <td>0.290900</td>\n",
       "      <td>0.290600</td>\n",
       "      <td>18.933300</td>\n",
       "    </tr>\n",
       "  </tbody>\n",
       "</table><p>"
      ],
      "text/plain": [
       "<IPython.core.display.HTML object>"
      ]
     },
     "metadata": {},
     "output_type": "display_data"
    },
    {
     "data": {
      "text/plain": [
       "TrainOutput(global_step=160, training_loss=1.2084716796875, metrics={'train_runtime': 308.8197, 'train_samples_per_second': 4.048, 'train_steps_per_second': 0.518, 'total_flos': 862741463040000.0, 'train_loss': 1.2084716796875, 'epoch': 10.0})"
      ]
     },
     "execution_count": 21,
     "metadata": {},
     "output_type": "execute_result"
    }
   ],
   "source": [
    "peft_trainer.train()"
   ]
  },
  {
   "cell_type": "code",
   "execution_count": 22,
   "id": "ItKZFXa8pWqe",
   "metadata": {
    "id": "ItKZFXa8pWqe"
   },
   "outputs": [],
   "source": [
    "import locale\n",
    "\n",
    "\n",
    "def getpreferredencoding(do_setlocale=True):\n",
    "    return \"UTF-8\"\n",
    "\n",
    "\n",
    "locale.getpreferredencoding = getpreferredencoding"
   ]
  },
  {
   "cell_type": "code",
   "execution_count": 23,
   "id": "rYLKmLjN75kn",
   "metadata": {
    "colab": {
     "base_uri": "https://localhost:8080/"
    },
    "id": "rYLKmLjN75kn",
    "outputId": "90458944-fc26-43c2-eb54-9f4e821d1f78"
   },
   "outputs": [
    {
     "name": "stdout",
     "output_type": "stream",
     "text": [
      "\n",
      "    _|    _|  _|    _|    _|_|_|    _|_|_|  _|_|_|  _|      _|    _|_|_|      _|_|_|_|    _|_|      _|_|_|  _|_|_|_|\n",
      "    _|    _|  _|    _|  _|        _|          _|    _|_|    _|  _|            _|        _|    _|  _|        _|\n",
      "    _|_|_|_|  _|    _|  _|  _|_|  _|  _|_|    _|    _|  _|  _|  _|  _|_|      _|_|_|    _|_|_|_|  _|        _|_|_|\n",
      "    _|    _|  _|    _|  _|    _|  _|    _|    _|    _|    _|_|  _|    _|      _|        _|    _|  _|        _|\n",
      "    _|    _|    _|_|      _|_|_|    _|_|_|  _|_|_|  _|      _|    _|_|_|      _|        _|    _|    _|_|_|  _|_|_|_|\n",
      "    \n",
      "    A token is already saved on your machine. Run `huggingface-cli whoami` to get more information or `huggingface-cli logout` if you want to log out.\n",
      "    Setting a new token will erase the existing one.\n",
      "    To login, `huggingface_hub` requires a token generated from https://huggingface.co/settings/tokens .\n",
      "Token: \n",
      "Add token as git credential? (Y/n) n\n",
      "Token is valid (permission: write).\n",
      "Your token has been saved to /root/.cache/huggingface/token\n",
      "Login successful\n"
     ]
    }
   ],
   "source": [
    "! huggingface-cli login"
   ]
  },
  {
   "cell_type": "code",
   "execution_count": 24,
   "id": "cHoGK-iL_KxN",
   "metadata": {
    "colab": {
     "base_uri": "https://localhost:8080/",
     "height": 103,
     "referenced_widgets": [
      "0e176ec22de54a1fbedf60c4f5fc7304",
      "1f3aca259e2b4ca0abbb2d3806b88653",
      "74983141a01b40b8843ba05354699658",
      "4a72f338eeef4f1589ff9ac60830580e",
      "6a4335666d4049a99fe78b12796fd0bc",
      "73a7a13be8b8439fb2e3771746335fea",
      "5b98c3b1732f40abaed7cf557252e731",
      "2d3a3dbc11ed4ed7b926cb95e8abab0a",
      "d7faaf3fe82b4da3b3897eebab5e687f",
      "1ac88da6727c4a8c8afefcda0a076336",
      "ec8faa341287459fb06ce4adf4bd7395"
     ]
    },
    "id": "cHoGK-iL_KxN",
    "outputId": "374dede3-f143-487a-f72b-a115a79b7979"
   },
   "outputs": [
    {
     "data": {
      "application/vnd.jupyter.widget-view+json": {
       "model_id": "0e176ec22de54a1fbedf60c4f5fc7304",
       "version_major": 2,
       "version_minor": 0
      },
      "text/plain": [
       "adapter_model.bin:   0%|          | 0.00/7.13M [00:00<?, ?B/s]"
      ]
     },
     "metadata": {},
     "output_type": "display_data"
    },
    {
     "data": {
      "text/plain": [
       "CommitInfo(commit_url='https://huggingface.co/sagarshf/flan-t5-dialogsum-peft/commit/c34eb0f5681e05e142586f4a9643a793d857763d', commit_message='Upload model', commit_description='', oid='c34eb0f5681e05e142586f4a9643a793d857763d', pr_url=None, pr_revision=None, pr_num=None)"
      ]
     },
     "execution_count": 24,
     "metadata": {},
     "output_type": "execute_result"
    }
   ],
   "source": [
    "peft_trainer.model.push_to_hub(repo_id=\"flan-t5-dialogsum-peft\")"
   ]
  },
  {
   "cell_type": "code",
   "execution_count": null,
   "id": "GjSDFMjT-4Pp",
   "metadata": {
    "id": "GjSDFMjT-4Pp"
   },
   "outputs": [],
   "source": [
    "# tokenizer.push_to_hub(repo_id=\"https://huggingface.co/sagarshf/flan-t5-dialogsum\")"
   ]
  },
  {
   "cell_type": "markdown",
   "id": "wvVBFdqCuLvu",
   "metadata": {
    "id": "wvVBFdqCuLvu"
   },
   "source": [
    "# load trained model"
   ]
  },
  {
   "cell_type": "code",
   "execution_count": 25,
   "id": "CRIMeGn6uPRr",
   "metadata": {
    "id": "CRIMeGn6uPRr"
   },
   "outputs": [],
   "source": [
    "from transformers import AutoModel\n",
    "\n",
    "# original model (NOT fine tuned)\n",
    "model_id = \"google/flan-t5-base\"\n",
    "original_model = AutoModelForSeq2SeqLM.from_pretrained(\n",
    "    model_id, torch_dtype=torch.bfloat16\n",
    ")\n",
    "\n",
    "# Load tokenizer of FLAN-t5-base\n",
    "tokenizer = AutoTokenizer.from_pretrained(model_id, torch_dtype=torch.bfloat16)"
   ]
  },
  {
   "cell_type": "code",
   "execution_count": 34,
   "id": "ETVCUaf46kGO",
   "metadata": {
    "colab": {
     "base_uri": "https://localhost:8080/",
     "height": 113,
     "referenced_widgets": [
      "2d1e1c1e059941749d345c3449961f1d",
      "e3b7464d098a4e46b39dc87b7040608b",
      "72584b19a7554af082de5b9c4ea6c700",
      "0fb9a784c04e430fb4301befa80974c5",
      "c6aff6a726f844be872ebfbb071bdfc9",
      "9add533567af4aafad92f1aa5d3469d6",
      "0c1b441f936b4c1598ac4a2375920a7b",
      "cb7a33feb19f48eb9f20106f76e77fdb",
      "4ef552946a5b44018cc0fe5302a4ff0b",
      "a4b986010063411c8fb95b9a54edaa82",
      "d837b33f4d1a4a81a929a4d5c4aa810d",
      "92dc6ecc2d134b1e9ad97eb0541329d5",
      "8041a062dbd545e99df0d0e6aad8dc5a",
      "82645f7af1c34e33bf9ffb7984fc8afa",
      "645a0c51fd324ff1b3150595ab363141",
      "5f60e88bb458446a967a7b2fdc34eaec",
      "cc73fc8ee671472e8f2a527a14265bf7",
      "a77dccfc694d4c1b8f5a9fc8b08ce077",
      "149b3c2bcb1f449c96acaaf5b93097bf",
      "f1103ff312f54887bb617b57c9c7e86e",
      "1748cf3a590e4c419f47362d42ccac3e",
      "39a1a9be8c1f48f79abf26aa682f2408",
      "d501f37eb57c4c688e2d065a87a93181",
      "aec3e42523774091be6788b3d22c60fb",
      "355867e7dab34bf3b3edbe93ca801cba",
      "dcf92b45322a45ad90111411c26a924f",
      "d3afd7fa25894abcbd1d1c167155328b",
      "4b811ca3d12f479f8650e180669f1313",
      "0325563e074744e0a38615f57ee5904c",
      "57cc8e5b680943f891e78dec3694ef36",
      "e75a8e17a1594794b72f43749464edbe",
      "0085f51736c7444f8b340644acf62c7c",
      "a8d82df1a22240cea6b818362a16fe72"
     ]
    },
    "id": "ETVCUaf46kGO",
    "outputId": "835051c3-bbfd-4d87-bb95-1930382d5b80"
   },
   "outputs": [
    {
     "data": {
      "application/vnd.jupyter.widget-view+json": {
       "model_id": "2d1e1c1e059941749d345c3449961f1d",
       "version_major": 2,
       "version_minor": 0
      },
      "text/plain": [
       "Downloading (…)lve/main/config.json:   0%|          | 0.00/1.53k [00:00<?, ?B/s]"
      ]
     },
     "metadata": {},
     "output_type": "display_data"
    },
    {
     "data": {
      "application/vnd.jupyter.widget-view+json": {
       "model_id": "92dc6ecc2d134b1e9ad97eb0541329d5",
       "version_major": 2,
       "version_minor": 0
      },
      "text/plain": [
       "Downloading pytorch_model.bin:   0%|          | 0.00/495M [00:00<?, ?B/s]"
      ]
     },
     "metadata": {},
     "output_type": "display_data"
    },
    {
     "data": {
      "application/vnd.jupyter.widget-view+json": {
       "model_id": "d501f37eb57c4c688e2d065a87a93181",
       "version_major": 2,
       "version_minor": 0
      },
      "text/plain": [
       "Downloading (…)neration_config.json:   0%|          | 0.00/112 [00:00<?, ?B/s]"
      ]
     },
     "metadata": {},
     "output_type": "display_data"
    }
   ],
   "source": [
    "# load fully fine tuned model\n",
    "\n",
    "ft_model_id = \"sagarshf/flan-t5-dialogsum\"\n",
    "ft_model = AutoModelForSeq2SeqLM.from_pretrained(\n",
    "    ft_model_id, torch_dtype=torch.bfloat16\n",
    ")"
   ]
  },
  {
   "cell_type": "code",
   "execution_count": 26,
   "id": "2DRVp1Qsz2i3",
   "metadata": {
    "colab": {
     "base_uri": "https://localhost:8080/",
     "height": 49,
     "referenced_widgets": [
      "215c1de262604d43a640585ef279f737",
      "dbace712c4ea4ca2abee59f73e0f8fb8",
      "f74b62296f364cfca80b26fb467e25e3",
      "abb6249a79fe4c7bb2a8f7b67290e5a4",
      "cfe5e39654724c4f9c077b799739d80c",
      "0fd53e25aa6c42c5b10feaa9de432064",
      "52b4f8f975bd483387cadb074045ddf4",
      "9fc772705baa4f3390717f1ae1ab8ffe",
      "b3a46e64bb0b4f5fb381cf03d2e8a956",
      "94157bc0d82049b6ab8e4fff4ec8b051",
      "533c791f3d4d48e086f35412c1104707"
     ]
    },
    "id": "2DRVp1Qsz2i3",
    "outputId": "7a5a6734-dbd9-43e8-94e4-78cd1eefc911"
   },
   "outputs": [
    {
     "data": {
      "application/vnd.jupyter.widget-view+json": {
       "model_id": "215c1de262604d43a640585ef279f737",
       "version_major": 2,
       "version_minor": 0
      },
      "text/plain": [
       "Downloading adapter_model.bin:   0%|          | 0.00/7.13M [00:00<?, ?B/s]"
      ]
     },
     "metadata": {},
     "output_type": "display_data"
    }
   ],
   "source": [
    "# load peft model\n",
    "\n",
    "from peft import PeftModel, PeftConfig\n",
    "\n",
    "peft_model_base_id = \"google/flan-t5-base\"\n",
    "peft_model_id = \"sagarshf/flan-t5-dialogsum-peft\"\n",
    "\n",
    "peft_model_base = AutoModelForSeq2SeqLM.from_pretrained(\n",
    "    peft_model_base_id, torch_dtype=torch.bfloat16\n",
    ")\n",
    "peft_model = PeftModel.from_pretrained(\n",
    "    peft_model_base, peft_model_id, torch_dtype=torch.bfloat16, is_trainable=False\n",
    ")"
   ]
  },
  {
   "cell_type": "markdown",
   "id": "jpw6SEgQRqy4",
   "metadata": {
    "id": "jpw6SEgQRqy4"
   },
   "source": [
    "# Qualitative evaluation"
   ]
  },
  {
   "cell_type": "code",
   "execution_count": 27,
   "id": "8PYGQUGav7PK",
   "metadata": {
    "colab": {
     "base_uri": "https://localhost:8080/"
    },
    "id": "8PYGQUGav7PK",
    "outputId": "2ae1a1f8-e6f2-4286-c589-81e5e545cd68"
   },
   "outputs": [
    {
     "data": {
      "text/plain": [
       "0"
      ]
     },
     "execution_count": 27,
     "metadata": {},
     "output_type": "execute_result"
    }
   ],
   "source": [
    "original_model.to(\"cuda:0\")\n",
    "ft_model.to(\"cuda:0\")\n",
    "peft_model.to(\"cuda:0\")\n",
    "0"
   ]
  },
  {
   "cell_type": "code",
   "execution_count": 64,
   "id": "jOP8OM_aRF3s",
   "metadata": {
    "colab": {
     "base_uri": "https://localhost:8080/"
    },
    "id": "jOP8OM_aRF3s",
    "outputId": "d91a823e-61d2-46ac-fc32-a547b5348cc1"
   },
   "outputs": [
    {
     "name": "stdout",
     "output_type": "stream",
     "text": [
      "23\n",
      "---------------------------------------------------------------------------------------------------\n",
      "INPUT PROMPT:\n",
      "Summarize:\n",
      "#Person1#: Good coming. What can I do for you?\n",
      "#Person2#: I'm in Room 309. I'm checking out today. Can I have my bill now?\n",
      "#Person1#: Certainly. Please wait a moment. Here you are.\n",
      "#Person2#: Thanks. Wait... What's this? The 30 dollar for?\n",
      "#Person1#: Excuse me... The charge for your laundry service on Nov. 20th.\n",
      "#Person2#: But I did't take any laundry service during my stay here. I think you have added someone else's.\n",
      "#Person1#: Ummmm...Sorry, would you mind waiting a moment? We check it with the department concerned.\n",
      "#Person2#: No. As long as we get this straightened out.\n",
      "#Person1#: I'm very sorry. There has been a mistake. We'll correct the bill. Please take a look.\n",
      "#Person2#: Okay, here you are.\n",
      "#Person1#: Goodbye.\n",
      "---------------------------------------------------------------------------------------------------\n",
      "('BASELINE HUMAN SUMMARY:\\n'\n",
      " '#Person2# finds #Person2# being mischarged. #Person1# corrects the bill and '\n",
      " '#Person2# pays for it.\\n')\n",
      "---------------------------------------------------------------------------------------------------\n",
      "\n",
      "('LoRA fine tuned MODEL GENERATION - ZERO SHOT:\\n'\n",
      " '#Person2# asks #Person1# to have his laundry service charge corrected. '\n",
      " '#Person1# tells #Person2# that there has been a mistake and will correct the '\n",
      " 'bill.')\n",
      "\n",
      "---------------------------------------------------------------------------------------------------\n",
      "('Full fine tuned MODEL GENERATION - ZERO SHOT:\\n'\n",
      " '#Person1# is checking out today. #Person2# is in Room 309. #Person1# is '\n",
      " 'checking out today. #Person2# is sorry about the laundry charge. #Person1# '\n",
      " 'will correct the bill.')\n",
      "\n",
      "---------------------------------------------------------------------------------------------------\n",
      "('NON fine tuned MODEL GENERATION - ZERO SHOT:\\n'\n",
      " 'The laundry charge for Nov. 20th is 30 dollars.')\n"
     ]
    }
   ],
   "source": [
    "def inference_summarize(model, dialogue, ref_summary, tokenizer):\n",
    "    prompt = f\"\"\"Summarize:\\n{dialogue}\"\"\"\n",
    "\n",
    "    inputs = tokenizer(prompt, return_tensors=\"pt\").input_ids.cuda()\n",
    "    model_out = model.generate(input_ids=inputs, max_new_tokens=100)[0]\n",
    "\n",
    "    output = tokenizer.decode(model_out, skip_special_tokens=True)\n",
    "\n",
    "    return (prompt, ref_summary, output)\n",
    "\n",
    "\n",
    "def print_inference_summary(\n",
    "    prompt, summary, output, which_model=\"MODEL\", summary_only=False\n",
    "):\n",
    "    dash_line = \"-\".join(\"\" for x in range(100))\n",
    "    if not summary_only:\n",
    "        print(dash_line)\n",
    "        print(f\"INPUT PROMPT:\\n{prompt}\")\n",
    "        print(dash_line)\n",
    "        pprint(f\"BASELINE HUMAN SUMMARY:\\n{summary}\\n\")\n",
    "        print(dash_line)\n",
    "        print()\n",
    "        pprint(f\"{which_model} GENERATION - ZERO SHOT:\\n{output}\")\n",
    "    else:\n",
    "        print()\n",
    "        print(dash_line)\n",
    "        pprint(f\"{which_model} GENERATION - ZERO SHOT:\\n{output}\")\n",
    "\n",
    "\n",
    "check_index = int(np.random.randint(0, 100, 1)[0])\n",
    "print(check_index)\n",
    "\n",
    "dialogue = dataset[\"test\"][check_index][\"dialogue\"]\n",
    "summary = dataset[\"test\"][check_index][\"summary\"]\n",
    "\n",
    "print_inference_summary(\n",
    "    *inference_summarize(\n",
    "        peft_model, dialogue, ref_summary=summary, tokenizer=tokenizer\n",
    "    ),\n",
    "    which_model=\"LoRA fine tuned MODEL\",\n",
    ")\n",
    "print_inference_summary(\n",
    "    *inference_summarize(ft_model, dialogue, ref_summary=summary, tokenizer=tokenizer),\n",
    "    which_model=\"Full fine tuned MODEL\",\n",
    "    summary_only=True,\n",
    ")\n",
    "print_inference_summary(\n",
    "    *inference_summarize(\n",
    "        original_model, dialogue, ref_summary=summary, tokenizer=tokenizer\n",
    "    ),\n",
    "    which_model=\"NON fine tuned MODEL\",\n",
    "    summary_only=True,\n",
    ")"
   ]
  },
  {
   "cell_type": "markdown",
   "id": "eQgrgGqQyUgi",
   "metadata": {
    "id": "eQgrgGqQyUgi"
   },
   "source": [
    "# Quantitative evaluation"
   ]
  },
  {
   "cell_type": "code",
   "execution_count": 33,
   "id": "wQvN0MGj0NIa",
   "metadata": {
    "colab": {
     "base_uri": "https://localhost:8080/"
    },
    "id": "wQvN0MGj0NIa",
    "outputId": "f416a5f4-98a5-4dfa-dc16-b4a1072d4530"
   },
   "outputs": [
    {
     "data": {
      "text/plain": [
       "1500"
      ]
     },
     "execution_count": 33,
     "metadata": {},
     "output_type": "execute_result"
    }
   ],
   "source": [
    "len(dataset[\"test\"])"
   ]
  },
  {
   "cell_type": "code",
   "execution_count": 39,
   "id": "JDTIas4myeYW",
   "metadata": {
    "colab": {
     "base_uri": "https://localhost:8080/",
     "height": 87,
     "referenced_widgets": [
      "59dae10366394ad3bbb0478be400b003",
      "1e077bf16edd456ba49612c777817561",
      "09defbf5e3464d1abba7140507dc5c57",
      "6542053fc95240e0bc97d7493c068e5e",
      "767888803d034445827431ad044d5318",
      "494bb14d4a9f47248908345561250b0a",
      "a3f39ed0571243fb9512923e5c523573",
      "ed2d8d66532940ceb86fbb0de41efd9a",
      "4654a7973f7447f7a0a2f09148e27d21",
      "9e6d68d5ca934193aa65c891eae90b57",
      "0aceba1ce823413bb8fc74002986f22b"
     ]
    },
    "id": "JDTIas4myeYW",
    "outputId": "0bd2d64b-c908-4561-e3b7-7be4f89a39ef"
   },
   "outputs": [
    {
     "data": {
      "application/vnd.jupyter.widget-view+json": {
       "model_id": "59dae10366394ad3bbb0478be400b003",
       "version_major": 2,
       "version_minor": 0
      },
      "text/plain": [
       "  0%|          | 0/300 [00:00<?, ?it/s]"
      ]
     },
     "metadata": {},
     "output_type": "display_data"
    },
    {
     "name": "stderr",
     "output_type": "stream",
     "text": [
      "Token indices sequence length is longer than the specified maximum sequence length for this model (1022 > 512). Running this sequence through the model will result in indexing errors\n"
     ]
    }
   ],
   "source": [
    "eval_res = dict(\n",
    "    prompt=[],\n",
    "    reference_summary=[],\n",
    "    original_model_summary=[],\n",
    "    full_finetuned_model_summary=[],\n",
    "    lora_finetuned_model_summary=[],\n",
    ")\n",
    "\n",
    "for i in tqdm(range(300)):\n",
    "    dialogue = dataset[\"test\"][i][\"dialogue\"]\n",
    "    summary = dataset[\"test\"][i][\"summary\"]\n",
    "    p, r, o_ft = inference_summarize(\n",
    "        ft_model, dialogue, ref_summary=summary, tokenizer=tokenizer\n",
    "    )\n",
    "    _, _, o_peft = inference_summarize(\n",
    "        peft_model, dialogue, ref_summary=summary, tokenizer=tokenizer\n",
    "    )\n",
    "    _, _, o_orig = inference_summarize(\n",
    "        original_model, dialogue, ref_summary=summary, tokenizer=tokenizer\n",
    "    )\n",
    "\n",
    "    eval_res[\"prompt\"].append(p)\n",
    "    eval_res[\"reference_summary\"].append(r)\n",
    "    eval_res[\"original_model_summary\"].append(o_orig)\n",
    "    eval_res[\"lora_finetuned_model_summary\"].append(o_peft)\n",
    "    eval_res[\"full_finetuned_model_summary\"].append(o_ft)"
   ]
  },
  {
   "cell_type": "code",
   "execution_count": 48,
   "id": "PFHPIHMuAQqT",
   "metadata": {
    "id": "PFHPIHMuAQqT"
   },
   "outputs": [],
   "source": [
    "eval_res[\"full_finetuned_model_summary\"] = eval_res.pop(\"finetuned_model_summary\")"
   ]
  },
  {
   "cell_type": "code",
   "execution_count": 51,
   "id": "sGP62Qkt61QM",
   "metadata": {
    "id": "sGP62Qkt61QM"
   },
   "outputs": [],
   "source": [
    "df_eval = pd.DataFrame(eval_res)"
   ]
  },
  {
   "cell_type": "code",
   "execution_count": 43,
   "id": "FPTCFqNdA9po",
   "metadata": {
    "id": "FPTCFqNdA9po"
   },
   "outputs": [],
   "source": [
    "df_eval.rename(\n",
    "    columns={\"finetuned_model_summary\": \"full_finetuned_model_summary\"}\n",
    ").to_csv(\"./eval_res_all.csv\", index=False)"
   ]
  },
  {
   "cell_type": "code",
   "execution_count": 44,
   "id": "GoOiqKgoCfhm",
   "metadata": {
    "id": "GoOiqKgoCfhm"
   },
   "outputs": [],
   "source": [
    "rouge = evaluate.load(\"rouge\")"
   ]
  },
  {
   "cell_type": "code",
   "execution_count": 45,
   "id": "uGBfwNLuB7MM",
   "metadata": {
    "colab": {
     "base_uri": "https://localhost:8080/"
    },
    "id": "uGBfwNLuB7MM",
    "outputId": "b037f117-eb59-496b-c90c-5ad8a4f3fe5a"
   },
   "outputs": [
    {
     "data": {
      "text/plain": [
       "{'rouge1': 0.2270195753743356,\n",
       " 'rouge2': 0.07081646152587748,\n",
       " 'rougeL': 0.19283084038525689,\n",
       " 'rougeLsum': 0.19302823606298322}"
      ]
     },
     "execution_count": 45,
     "metadata": {},
     "output_type": "execute_result"
    }
   ],
   "source": [
    "original_metrics = rouge.compute(\n",
    "    predictions=df_eval[\"original_model_summary\"],\n",
    "    references=df_eval[\"reference_summary\"],\n",
    ")\n",
    "original_metrics"
   ]
  },
  {
   "cell_type": "code",
   "execution_count": 52,
   "id": "lLbiiXwWCkz3",
   "metadata": {
    "colab": {
     "base_uri": "https://localhost:8080/"
    },
    "id": "lLbiiXwWCkz3",
    "outputId": "8cd00c8b-0f99-4f31-afc0-1b8c2e5243e4"
   },
   "outputs": [
    {
     "data": {
      "text/plain": [
       "{'rouge1': 0.3535591664452966,\n",
       " 'rouge2': 0.12308752487663749,\n",
       " 'rougeL': 0.29275391565223374,\n",
       " 'rougeLsum': 0.29286722576524893}"
      ]
     },
     "execution_count": 52,
     "metadata": {},
     "output_type": "execute_result"
    }
   ],
   "source": [
    "full_finetuned_metrics = rouge.compute(\n",
    "    predictions=df_eval[\"full_finetuned_model_summary\"],\n",
    "    references=df_eval[\"reference_summary\"],\n",
    ")\n",
    "full_finetuned_metrics"
   ]
  },
  {
   "cell_type": "code",
   "execution_count": 53,
   "id": "AKQJess3AcAN",
   "metadata": {
    "colab": {
     "base_uri": "https://localhost:8080/"
    },
    "id": "AKQJess3AcAN",
    "outputId": "ba3e7fb0-6c27-4cf0-d31c-1498527e8f9b"
   },
   "outputs": [
    {
     "data": {
      "text/plain": [
       "{'rouge1': 0.3767057630892099,\n",
       " 'rouge2': 0.13020658145858943,\n",
       " 'rougeL': 0.3023473962740625,\n",
       " 'rougeLsum': 0.30242823055986623}"
      ]
     },
     "execution_count": 53,
     "metadata": {},
     "output_type": "execute_result"
    }
   ],
   "source": [
    "lora_finetuned_metrics = rouge.compute(\n",
    "    predictions=df_eval[\"lora_finetuned_model_summary\"],\n",
    "    references=df_eval[\"reference_summary\"],\n",
    ")\n",
    "lora_finetuned_metrics"
   ]
  },
  {
   "cell_type": "code",
   "execution_count": 54,
   "id": "ADYWIx10C8ls",
   "metadata": {
    "colab": {
     "base_uri": "https://localhost:8080/"
    },
    "id": "ADYWIx10C8ls",
    "outputId": "9dd1b487-2b4b-4673-a731-9d164fad2d16"
   },
   "outputs": [
    {
     "data": {
      "text/plain": [
       "{'rouge1': '66%', 'rouge2': '84%', 'rougeL': '57%', 'rougeLsum': '57%'}"
      ]
     },
     "execution_count": 54,
     "metadata": {},
     "output_type": "execute_result"
    }
   ],
   "source": [
    "perc_increase = {}\n",
    "for i in [\"rouge1\", \"rouge2\", \"rougeL\", \"rougeLsum\"]:\n",
    "    orig_score, fine_score = original_metrics[i], lora_finetuned_metrics[i]\n",
    "    inc = f\"{round((fine_score-orig_score)*100/orig_score)}%\"\n",
    "    perc_increase[i] = inc\n",
    "\n",
    "perc_increase"
   ]
  },
  {
   "cell_type": "markdown",
   "id": "-wgbdsvPCsJM",
   "metadata": {
    "id": "-wgbdsvPCsJM"
   },
   "source": [
    "We can see that we get similar ROUGE scores to fully fine tuned model upon fine tuning with LoRA, which is a more efficient way of training using less compute and trainable parameters."
   ]
  }
 ],
 "metadata": {
  "accelerator": "GPU",
  "colab": {
   "gpuType": "T4",
   "provenance": []
  },
  "kernelspec": {
   "display_name": "Python 3 (ipykernel)",
   "language": "python",
   "name": "python3"
  },
  "language_info": {
   "codemirror_mode": {
    "name": "ipython",
    "version": 3
   },
   "file_extension": ".py",
   "mimetype": "text/x-python",
   "name": "python",
   "nbconvert_exporter": "python",
   "pygments_lexer": "ipython3",
   "version": "3.11.4"
  },
  "widgets": {
   "application/vnd.jupyter.widget-state+json": {
    "0085f51736c7444f8b340644acf62c7c": {
     "model_module": "@jupyter-widgets/base",
     "model_module_version": "1.2.0",
     "model_name": "LayoutModel",
     "state": {
      "_model_module": "@jupyter-widgets/base",
      "_model_module_version": "1.2.0",
      "_model_name": "LayoutModel",
      "_view_count": null,
      "_view_module": "@jupyter-widgets/base",
      "_view_module_version": "1.2.0",
      "_view_name": "LayoutView",
      "align_content": null,
      "align_items": null,
      "align_self": null,
      "border": null,
      "bottom": null,
      "display": null,
      "flex": null,
      "flex_flow": null,
      "grid_area": null,
      "grid_auto_columns": null,
      "grid_auto_flow": null,
      "grid_auto_rows": null,
      "grid_column": null,
      "grid_gap": null,
      "grid_row": null,
      "grid_template_areas": null,
      "grid_template_columns": null,
      "grid_template_rows": null,
      "height": null,
      "justify_content": null,
      "justify_items": null,
      "left": null,
      "margin": null,
      "max_height": null,
      "max_width": null,
      "min_height": null,
      "min_width": null,
      "object_fit": null,
      "object_position": null,
      "order": null,
      "overflow": null,
      "overflow_x": null,
      "overflow_y": null,
      "padding": null,
      "right": null,
      "top": null,
      "visibility": null,
      "width": null
     }
    },
    "0325563e074744e0a38615f57ee5904c": {
     "model_module": "@jupyter-widgets/controls",
     "model_module_version": "1.5.0",
     "model_name": "DescriptionStyleModel",
     "state": {
      "_model_module": "@jupyter-widgets/controls",
      "_model_module_version": "1.5.0",
      "_model_name": "DescriptionStyleModel",
      "_view_count": null,
      "_view_module": "@jupyter-widgets/base",
      "_view_module_version": "1.2.0",
      "_view_name": "StyleView",
      "description_width": ""
     }
    },
    "09defbf5e3464d1abba7140507dc5c57": {
     "model_module": "@jupyter-widgets/controls",
     "model_module_version": "1.5.0",
     "model_name": "FloatProgressModel",
     "state": {
      "_dom_classes": [],
      "_model_module": "@jupyter-widgets/controls",
      "_model_module_version": "1.5.0",
      "_model_name": "FloatProgressModel",
      "_view_count": null,
      "_view_module": "@jupyter-widgets/controls",
      "_view_module_version": "1.5.0",
      "_view_name": "ProgressView",
      "bar_style": "success",
      "description": "",
      "description_tooltip": null,
      "layout": "IPY_MODEL_ed2d8d66532940ceb86fbb0de41efd9a",
      "max": 300,
      "min": 0,
      "orientation": "horizontal",
      "style": "IPY_MODEL_4654a7973f7447f7a0a2f09148e27d21",
      "value": 300
     }
    },
    "0aceba1ce823413bb8fc74002986f22b": {
     "model_module": "@jupyter-widgets/controls",
     "model_module_version": "1.5.0",
     "model_name": "DescriptionStyleModel",
     "state": {
      "_model_module": "@jupyter-widgets/controls",
      "_model_module_version": "1.5.0",
      "_model_name": "DescriptionStyleModel",
      "_view_count": null,
      "_view_module": "@jupyter-widgets/base",
      "_view_module_version": "1.2.0",
      "_view_name": "StyleView",
      "description_width": ""
     }
    },
    "0c1b441f936b4c1598ac4a2375920a7b": {
     "model_module": "@jupyter-widgets/controls",
     "model_module_version": "1.5.0",
     "model_name": "DescriptionStyleModel",
     "state": {
      "_model_module": "@jupyter-widgets/controls",
      "_model_module_version": "1.5.0",
      "_model_name": "DescriptionStyleModel",
      "_view_count": null,
      "_view_module": "@jupyter-widgets/base",
      "_view_module_version": "1.2.0",
      "_view_name": "StyleView",
      "description_width": ""
     }
    },
    "0e176ec22de54a1fbedf60c4f5fc7304": {
     "model_module": "@jupyter-widgets/controls",
     "model_module_version": "1.5.0",
     "model_name": "HBoxModel",
     "state": {
      "_dom_classes": [],
      "_model_module": "@jupyter-widgets/controls",
      "_model_module_version": "1.5.0",
      "_model_name": "HBoxModel",
      "_view_count": null,
      "_view_module": "@jupyter-widgets/controls",
      "_view_module_version": "1.5.0",
      "_view_name": "HBoxView",
      "box_style": "",
      "children": [
       "IPY_MODEL_1f3aca259e2b4ca0abbb2d3806b88653",
       "IPY_MODEL_74983141a01b40b8843ba05354699658",
       "IPY_MODEL_4a72f338eeef4f1589ff9ac60830580e"
      ],
      "layout": "IPY_MODEL_6a4335666d4049a99fe78b12796fd0bc"
     }
    },
    "0fb9a784c04e430fb4301befa80974c5": {
     "model_module": "@jupyter-widgets/controls",
     "model_module_version": "1.5.0",
     "model_name": "HTMLModel",
     "state": {
      "_dom_classes": [],
      "_model_module": "@jupyter-widgets/controls",
      "_model_module_version": "1.5.0",
      "_model_name": "HTMLModel",
      "_view_count": null,
      "_view_module": "@jupyter-widgets/controls",
      "_view_module_version": "1.5.0",
      "_view_name": "HTMLView",
      "description": "",
      "description_tooltip": null,
      "layout": "IPY_MODEL_a4b986010063411c8fb95b9a54edaa82",
      "placeholder": "​",
      "style": "IPY_MODEL_d837b33f4d1a4a81a929a4d5c4aa810d",
      "value": " 1.53k/1.53k [00:00&lt;00:00, 52.8kB/s]"
     }
    },
    "0fd53e25aa6c42c5b10feaa9de432064": {
     "model_module": "@jupyter-widgets/base",
     "model_module_version": "1.2.0",
     "model_name": "LayoutModel",
     "state": {
      "_model_module": "@jupyter-widgets/base",
      "_model_module_version": "1.2.0",
      "_model_name": "LayoutModel",
      "_view_count": null,
      "_view_module": "@jupyter-widgets/base",
      "_view_module_version": "1.2.0",
      "_view_name": "LayoutView",
      "align_content": null,
      "align_items": null,
      "align_self": null,
      "border": null,
      "bottom": null,
      "display": null,
      "flex": null,
      "flex_flow": null,
      "grid_area": null,
      "grid_auto_columns": null,
      "grid_auto_flow": null,
      "grid_auto_rows": null,
      "grid_column": null,
      "grid_gap": null,
      "grid_row": null,
      "grid_template_areas": null,
      "grid_template_columns": null,
      "grid_template_rows": null,
      "height": null,
      "justify_content": null,
      "justify_items": null,
      "left": null,
      "margin": null,
      "max_height": null,
      "max_width": null,
      "min_height": null,
      "min_width": null,
      "object_fit": null,
      "object_position": null,
      "order": null,
      "overflow": null,
      "overflow_x": null,
      "overflow_y": null,
      "padding": null,
      "right": null,
      "top": null,
      "visibility": null,
      "width": null
     }
    },
    "149b3c2bcb1f449c96acaaf5b93097bf": {
     "model_module": "@jupyter-widgets/base",
     "model_module_version": "1.2.0",
     "model_name": "LayoutModel",
     "state": {
      "_model_module": "@jupyter-widgets/base",
      "_model_module_version": "1.2.0",
      "_model_name": "LayoutModel",
      "_view_count": null,
      "_view_module": "@jupyter-widgets/base",
      "_view_module_version": "1.2.0",
      "_view_name": "LayoutView",
      "align_content": null,
      "align_items": null,
      "align_self": null,
      "border": null,
      "bottom": null,
      "display": null,
      "flex": null,
      "flex_flow": null,
      "grid_area": null,
      "grid_auto_columns": null,
      "grid_auto_flow": null,
      "grid_auto_rows": null,
      "grid_column": null,
      "grid_gap": null,
      "grid_row": null,
      "grid_template_areas": null,
      "grid_template_columns": null,
      "grid_template_rows": null,
      "height": null,
      "justify_content": null,
      "justify_items": null,
      "left": null,
      "margin": null,
      "max_height": null,
      "max_width": null,
      "min_height": null,
      "min_width": null,
      "object_fit": null,
      "object_position": null,
      "order": null,
      "overflow": null,
      "overflow_x": null,
      "overflow_y": null,
      "padding": null,
      "right": null,
      "top": null,
      "visibility": null,
      "width": null
     }
    },
    "1748cf3a590e4c419f47362d42ccac3e": {
     "model_module": "@jupyter-widgets/base",
     "model_module_version": "1.2.0",
     "model_name": "LayoutModel",
     "state": {
      "_model_module": "@jupyter-widgets/base",
      "_model_module_version": "1.2.0",
      "_model_name": "LayoutModel",
      "_view_count": null,
      "_view_module": "@jupyter-widgets/base",
      "_view_module_version": "1.2.0",
      "_view_name": "LayoutView",
      "align_content": null,
      "align_items": null,
      "align_self": null,
      "border": null,
      "bottom": null,
      "display": null,
      "flex": null,
      "flex_flow": null,
      "grid_area": null,
      "grid_auto_columns": null,
      "grid_auto_flow": null,
      "grid_auto_rows": null,
      "grid_column": null,
      "grid_gap": null,
      "grid_row": null,
      "grid_template_areas": null,
      "grid_template_columns": null,
      "grid_template_rows": null,
      "height": null,
      "justify_content": null,
      "justify_items": null,
      "left": null,
      "margin": null,
      "max_height": null,
      "max_width": null,
      "min_height": null,
      "min_width": null,
      "object_fit": null,
      "object_position": null,
      "order": null,
      "overflow": null,
      "overflow_x": null,
      "overflow_y": null,
      "padding": null,
      "right": null,
      "top": null,
      "visibility": null,
      "width": null
     }
    },
    "1ac88da6727c4a8c8afefcda0a076336": {
     "model_module": "@jupyter-widgets/base",
     "model_module_version": "1.2.0",
     "model_name": "LayoutModel",
     "state": {
      "_model_module": "@jupyter-widgets/base",
      "_model_module_version": "1.2.0",
      "_model_name": "LayoutModel",
      "_view_count": null,
      "_view_module": "@jupyter-widgets/base",
      "_view_module_version": "1.2.0",
      "_view_name": "LayoutView",
      "align_content": null,
      "align_items": null,
      "align_self": null,
      "border": null,
      "bottom": null,
      "display": null,
      "flex": null,
      "flex_flow": null,
      "grid_area": null,
      "grid_auto_columns": null,
      "grid_auto_flow": null,
      "grid_auto_rows": null,
      "grid_column": null,
      "grid_gap": null,
      "grid_row": null,
      "grid_template_areas": null,
      "grid_template_columns": null,
      "grid_template_rows": null,
      "height": null,
      "justify_content": null,
      "justify_items": null,
      "left": null,
      "margin": null,
      "max_height": null,
      "max_width": null,
      "min_height": null,
      "min_width": null,
      "object_fit": null,
      "object_position": null,
      "order": null,
      "overflow": null,
      "overflow_x": null,
      "overflow_y": null,
      "padding": null,
      "right": null,
      "top": null,
      "visibility": null,
      "width": null
     }
    },
    "1e077bf16edd456ba49612c777817561": {
     "model_module": "@jupyter-widgets/controls",
     "model_module_version": "1.5.0",
     "model_name": "HTMLModel",
     "state": {
      "_dom_classes": [],
      "_model_module": "@jupyter-widgets/controls",
      "_model_module_version": "1.5.0",
      "_model_name": "HTMLModel",
      "_view_count": null,
      "_view_module": "@jupyter-widgets/controls",
      "_view_module_version": "1.5.0",
      "_view_name": "HTMLView",
      "description": "",
      "description_tooltip": null,
      "layout": "IPY_MODEL_494bb14d4a9f47248908345561250b0a",
      "placeholder": "​",
      "style": "IPY_MODEL_a3f39ed0571243fb9512923e5c523573",
      "value": "100%"
     }
    },
    "1f3aca259e2b4ca0abbb2d3806b88653": {
     "model_module": "@jupyter-widgets/controls",
     "model_module_version": "1.5.0",
     "model_name": "HTMLModel",
     "state": {
      "_dom_classes": [],
      "_model_module": "@jupyter-widgets/controls",
      "_model_module_version": "1.5.0",
      "_model_name": "HTMLModel",
      "_view_count": null,
      "_view_module": "@jupyter-widgets/controls",
      "_view_module_version": "1.5.0",
      "_view_name": "HTMLView",
      "description": "",
      "description_tooltip": null,
      "layout": "IPY_MODEL_73a7a13be8b8439fb2e3771746335fea",
      "placeholder": "​",
      "style": "IPY_MODEL_5b98c3b1732f40abaed7cf557252e731",
      "value": "adapter_model.bin: 100%"
     }
    },
    "2033f57d399148c59fc439b139806834": {
     "model_module": "@jupyter-widgets/controls",
     "model_module_version": "1.5.0",
     "model_name": "FloatProgressModel",
     "state": {
      "_dom_classes": [],
      "_model_module": "@jupyter-widgets/controls",
      "_model_module_version": "1.5.0",
      "_model_name": "FloatProgressModel",
      "_view_count": null,
      "_view_module": "@jupyter-widgets/controls",
      "_view_module_version": "1.5.0",
      "_view_name": "ProgressView",
      "bar_style": "success",
      "description": "",
      "description_tooltip": null,
      "layout": "IPY_MODEL_f27751680a684bf48572b0be2d7ba4e9",
      "max": 3,
      "min": 0,
      "orientation": "horizontal",
      "style": "IPY_MODEL_873753d4c0f14671a859d926d7884fcc",
      "value": 3
     }
    },
    "215c1de262604d43a640585ef279f737": {
     "model_module": "@jupyter-widgets/controls",
     "model_module_version": "1.5.0",
     "model_name": "HBoxModel",
     "state": {
      "_dom_classes": [],
      "_model_module": "@jupyter-widgets/controls",
      "_model_module_version": "1.5.0",
      "_model_name": "HBoxModel",
      "_view_count": null,
      "_view_module": "@jupyter-widgets/controls",
      "_view_module_version": "1.5.0",
      "_view_name": "HBoxView",
      "box_style": "",
      "children": [
       "IPY_MODEL_dbace712c4ea4ca2abee59f73e0f8fb8",
       "IPY_MODEL_f74b62296f364cfca80b26fb467e25e3",
       "IPY_MODEL_abb6249a79fe4c7bb2a8f7b67290e5a4"
      ],
      "layout": "IPY_MODEL_cfe5e39654724c4f9c077b799739d80c"
     }
    },
    "2d1e1c1e059941749d345c3449961f1d": {
     "model_module": "@jupyter-widgets/controls",
     "model_module_version": "1.5.0",
     "model_name": "HBoxModel",
     "state": {
      "_dom_classes": [],
      "_model_module": "@jupyter-widgets/controls",
      "_model_module_version": "1.5.0",
      "_model_name": "HBoxModel",
      "_view_count": null,
      "_view_module": "@jupyter-widgets/controls",
      "_view_module_version": "1.5.0",
      "_view_name": "HBoxView",
      "box_style": "",
      "children": [
       "IPY_MODEL_e3b7464d098a4e46b39dc87b7040608b",
       "IPY_MODEL_72584b19a7554af082de5b9c4ea6c700",
       "IPY_MODEL_0fb9a784c04e430fb4301befa80974c5"
      ],
      "layout": "IPY_MODEL_c6aff6a726f844be872ebfbb071bdfc9"
     }
    },
    "2d3a3dbc11ed4ed7b926cb95e8abab0a": {
     "model_module": "@jupyter-widgets/base",
     "model_module_version": "1.2.0",
     "model_name": "LayoutModel",
     "state": {
      "_model_module": "@jupyter-widgets/base",
      "_model_module_version": "1.2.0",
      "_model_name": "LayoutModel",
      "_view_count": null,
      "_view_module": "@jupyter-widgets/base",
      "_view_module_version": "1.2.0",
      "_view_name": "LayoutView",
      "align_content": null,
      "align_items": null,
      "align_self": null,
      "border": null,
      "bottom": null,
      "display": null,
      "flex": null,
      "flex_flow": null,
      "grid_area": null,
      "grid_auto_columns": null,
      "grid_auto_flow": null,
      "grid_auto_rows": null,
      "grid_column": null,
      "grid_gap": null,
      "grid_row": null,
      "grid_template_areas": null,
      "grid_template_columns": null,
      "grid_template_rows": null,
      "height": null,
      "justify_content": null,
      "justify_items": null,
      "left": null,
      "margin": null,
      "max_height": null,
      "max_width": null,
      "min_height": null,
      "min_width": null,
      "object_fit": null,
      "object_position": null,
      "order": null,
      "overflow": null,
      "overflow_x": null,
      "overflow_y": null,
      "padding": null,
      "right": null,
      "top": null,
      "visibility": null,
      "width": null
     }
    },
    "355867e7dab34bf3b3edbe93ca801cba": {
     "model_module": "@jupyter-widgets/controls",
     "model_module_version": "1.5.0",
     "model_name": "FloatProgressModel",
     "state": {
      "_dom_classes": [],
      "_model_module": "@jupyter-widgets/controls",
      "_model_module_version": "1.5.0",
      "_model_name": "FloatProgressModel",
      "_view_count": null,
      "_view_module": "@jupyter-widgets/controls",
      "_view_module_version": "1.5.0",
      "_view_name": "ProgressView",
      "bar_style": "success",
      "description": "",
      "description_tooltip": null,
      "layout": "IPY_MODEL_57cc8e5b680943f891e78dec3694ef36",
      "max": 112,
      "min": 0,
      "orientation": "horizontal",
      "style": "IPY_MODEL_e75a8e17a1594794b72f43749464edbe",
      "value": 112
     }
    },
    "39a1a9be8c1f48f79abf26aa682f2408": {
     "model_module": "@jupyter-widgets/controls",
     "model_module_version": "1.5.0",
     "model_name": "DescriptionStyleModel",
     "state": {
      "_model_module": "@jupyter-widgets/controls",
      "_model_module_version": "1.5.0",
      "_model_name": "DescriptionStyleModel",
      "_view_count": null,
      "_view_module": "@jupyter-widgets/base",
      "_view_module_version": "1.2.0",
      "_view_name": "StyleView",
      "description_width": ""
     }
    },
    "4654a7973f7447f7a0a2f09148e27d21": {
     "model_module": "@jupyter-widgets/controls",
     "model_module_version": "1.5.0",
     "model_name": "ProgressStyleModel",
     "state": {
      "_model_module": "@jupyter-widgets/controls",
      "_model_module_version": "1.5.0",
      "_model_name": "ProgressStyleModel",
      "_view_count": null,
      "_view_module": "@jupyter-widgets/base",
      "_view_module_version": "1.2.0",
      "_view_name": "StyleView",
      "bar_color": null,
      "description_width": ""
     }
    },
    "480609d67a7a45bb858bea45e0fa12a5": {
     "model_module": "@jupyter-widgets/controls",
     "model_module_version": "1.5.0",
     "model_name": "HTMLModel",
     "state": {
      "_dom_classes": [],
      "_model_module": "@jupyter-widgets/controls",
      "_model_module_version": "1.5.0",
      "_model_name": "HTMLModel",
      "_view_count": null,
      "_view_module": "@jupyter-widgets/controls",
      "_view_module_version": "1.5.0",
      "_view_name": "HTMLView",
      "description": "",
      "description_tooltip": null,
      "layout": "IPY_MODEL_84e261739b3241868eacd024a91624a3",
      "placeholder": "​",
      "style": "IPY_MODEL_75cf0f57f845409c8324b521ee197d27",
      "value": "100%"
     }
    },
    "494bb14d4a9f47248908345561250b0a": {
     "model_module": "@jupyter-widgets/base",
     "model_module_version": "1.2.0",
     "model_name": "LayoutModel",
     "state": {
      "_model_module": "@jupyter-widgets/base",
      "_model_module_version": "1.2.0",
      "_model_name": "LayoutModel",
      "_view_count": null,
      "_view_module": "@jupyter-widgets/base",
      "_view_module_version": "1.2.0",
      "_view_name": "LayoutView",
      "align_content": null,
      "align_items": null,
      "align_self": null,
      "border": null,
      "bottom": null,
      "display": null,
      "flex": null,
      "flex_flow": null,
      "grid_area": null,
      "grid_auto_columns": null,
      "grid_auto_flow": null,
      "grid_auto_rows": null,
      "grid_column": null,
      "grid_gap": null,
      "grid_row": null,
      "grid_template_areas": null,
      "grid_template_columns": null,
      "grid_template_rows": null,
      "height": null,
      "justify_content": null,
      "justify_items": null,
      "left": null,
      "margin": null,
      "max_height": null,
      "max_width": null,
      "min_height": null,
      "min_width": null,
      "object_fit": null,
      "object_position": null,
      "order": null,
      "overflow": null,
      "overflow_x": null,
      "overflow_y": null,
      "padding": null,
      "right": null,
      "top": null,
      "visibility": null,
      "width": null
     }
    },
    "4a72f338eeef4f1589ff9ac60830580e": {
     "model_module": "@jupyter-widgets/controls",
     "model_module_version": "1.5.0",
     "model_name": "HTMLModel",
     "state": {
      "_dom_classes": [],
      "_model_module": "@jupyter-widgets/controls",
      "_model_module_version": "1.5.0",
      "_model_name": "HTMLModel",
      "_view_count": null,
      "_view_module": "@jupyter-widgets/controls",
      "_view_module_version": "1.5.0",
      "_view_name": "HTMLView",
      "description": "",
      "description_tooltip": null,
      "layout": "IPY_MODEL_1ac88da6727c4a8c8afefcda0a076336",
      "placeholder": "​",
      "style": "IPY_MODEL_ec8faa341287459fb06ce4adf4bd7395",
      "value": " 7.13M/7.13M [00:00&lt;00:00, 11.1MB/s]"
     }
    },
    "4b811ca3d12f479f8650e180669f1313": {
     "model_module": "@jupyter-widgets/base",
     "model_module_version": "1.2.0",
     "model_name": "LayoutModel",
     "state": {
      "_model_module": "@jupyter-widgets/base",
      "_model_module_version": "1.2.0",
      "_model_name": "LayoutModel",
      "_view_count": null,
      "_view_module": "@jupyter-widgets/base",
      "_view_module_version": "1.2.0",
      "_view_name": "LayoutView",
      "align_content": null,
      "align_items": null,
      "align_self": null,
      "border": null,
      "bottom": null,
      "display": null,
      "flex": null,
      "flex_flow": null,
      "grid_area": null,
      "grid_auto_columns": null,
      "grid_auto_flow": null,
      "grid_auto_rows": null,
      "grid_column": null,
      "grid_gap": null,
      "grid_row": null,
      "grid_template_areas": null,
      "grid_template_columns": null,
      "grid_template_rows": null,
      "height": null,
      "justify_content": null,
      "justify_items": null,
      "left": null,
      "margin": null,
      "max_height": null,
      "max_width": null,
      "min_height": null,
      "min_width": null,
      "object_fit": null,
      "object_position": null,
      "order": null,
      "overflow": null,
      "overflow_x": null,
      "overflow_y": null,
      "padding": null,
      "right": null,
      "top": null,
      "visibility": null,
      "width": null
     }
    },
    "4ef552946a5b44018cc0fe5302a4ff0b": {
     "model_module": "@jupyter-widgets/controls",
     "model_module_version": "1.5.0",
     "model_name": "ProgressStyleModel",
     "state": {
      "_model_module": "@jupyter-widgets/controls",
      "_model_module_version": "1.5.0",
      "_model_name": "ProgressStyleModel",
      "_view_count": null,
      "_view_module": "@jupyter-widgets/base",
      "_view_module_version": "1.2.0",
      "_view_name": "StyleView",
      "bar_color": null,
      "description_width": ""
     }
    },
    "52b4f8f975bd483387cadb074045ddf4": {
     "model_module": "@jupyter-widgets/controls",
     "model_module_version": "1.5.0",
     "model_name": "DescriptionStyleModel",
     "state": {
      "_model_module": "@jupyter-widgets/controls",
      "_model_module_version": "1.5.0",
      "_model_name": "DescriptionStyleModel",
      "_view_count": null,
      "_view_module": "@jupyter-widgets/base",
      "_view_module_version": "1.2.0",
      "_view_name": "StyleView",
      "description_width": ""
     }
    },
    "533c791f3d4d48e086f35412c1104707": {
     "model_module": "@jupyter-widgets/controls",
     "model_module_version": "1.5.0",
     "model_name": "DescriptionStyleModel",
     "state": {
      "_model_module": "@jupyter-widgets/controls",
      "_model_module_version": "1.5.0",
      "_model_name": "DescriptionStyleModel",
      "_view_count": null,
      "_view_module": "@jupyter-widgets/base",
      "_view_module_version": "1.2.0",
      "_view_name": "StyleView",
      "description_width": ""
     }
    },
    "536a836f16d64b60ae565e716e5a8ad1": {
     "model_module": "@jupyter-widgets/controls",
     "model_module_version": "1.5.0",
     "model_name": "HBoxModel",
     "state": {
      "_dom_classes": [],
      "_model_module": "@jupyter-widgets/controls",
      "_model_module_version": "1.5.0",
      "_model_name": "HBoxModel",
      "_view_count": null,
      "_view_module": "@jupyter-widgets/controls",
      "_view_module_version": "1.5.0",
      "_view_name": "HBoxView",
      "box_style": "",
      "children": [
       "IPY_MODEL_480609d67a7a45bb858bea45e0fa12a5",
       "IPY_MODEL_2033f57d399148c59fc439b139806834",
       "IPY_MODEL_e00cd0a28a3d443bb953b5d718249236"
      ],
      "layout": "IPY_MODEL_78fb1adc01b8492e8befd3720ca5cfd9"
     }
    },
    "57cc8e5b680943f891e78dec3694ef36": {
     "model_module": "@jupyter-widgets/base",
     "model_module_version": "1.2.0",
     "model_name": "LayoutModel",
     "state": {
      "_model_module": "@jupyter-widgets/base",
      "_model_module_version": "1.2.0",
      "_model_name": "LayoutModel",
      "_view_count": null,
      "_view_module": "@jupyter-widgets/base",
      "_view_module_version": "1.2.0",
      "_view_name": "LayoutView",
      "align_content": null,
      "align_items": null,
      "align_self": null,
      "border": null,
      "bottom": null,
      "display": null,
      "flex": null,
      "flex_flow": null,
      "grid_area": null,
      "grid_auto_columns": null,
      "grid_auto_flow": null,
      "grid_auto_rows": null,
      "grid_column": null,
      "grid_gap": null,
      "grid_row": null,
      "grid_template_areas": null,
      "grid_template_columns": null,
      "grid_template_rows": null,
      "height": null,
      "justify_content": null,
      "justify_items": null,
      "left": null,
      "margin": null,
      "max_height": null,
      "max_width": null,
      "min_height": null,
      "min_width": null,
      "object_fit": null,
      "object_position": null,
      "order": null,
      "overflow": null,
      "overflow_x": null,
      "overflow_y": null,
      "padding": null,
      "right": null,
      "top": null,
      "visibility": null,
      "width": null
     }
    },
    "59dae10366394ad3bbb0478be400b003": {
     "model_module": "@jupyter-widgets/controls",
     "model_module_version": "1.5.0",
     "model_name": "HBoxModel",
     "state": {
      "_dom_classes": [],
      "_model_module": "@jupyter-widgets/controls",
      "_model_module_version": "1.5.0",
      "_model_name": "HBoxModel",
      "_view_count": null,
      "_view_module": "@jupyter-widgets/controls",
      "_view_module_version": "1.5.0",
      "_view_name": "HBoxView",
      "box_style": "",
      "children": [
       "IPY_MODEL_1e077bf16edd456ba49612c777817561",
       "IPY_MODEL_09defbf5e3464d1abba7140507dc5c57",
       "IPY_MODEL_6542053fc95240e0bc97d7493c068e5e"
      ],
      "layout": "IPY_MODEL_767888803d034445827431ad044d5318"
     }
    },
    "5b98c3b1732f40abaed7cf557252e731": {
     "model_module": "@jupyter-widgets/controls",
     "model_module_version": "1.5.0",
     "model_name": "DescriptionStyleModel",
     "state": {
      "_model_module": "@jupyter-widgets/controls",
      "_model_module_version": "1.5.0",
      "_model_name": "DescriptionStyleModel",
      "_view_count": null,
      "_view_module": "@jupyter-widgets/base",
      "_view_module_version": "1.2.0",
      "_view_name": "StyleView",
      "description_width": ""
     }
    },
    "5f60e88bb458446a967a7b2fdc34eaec": {
     "model_module": "@jupyter-widgets/base",
     "model_module_version": "1.2.0",
     "model_name": "LayoutModel",
     "state": {
      "_model_module": "@jupyter-widgets/base",
      "_model_module_version": "1.2.0",
      "_model_name": "LayoutModel",
      "_view_count": null,
      "_view_module": "@jupyter-widgets/base",
      "_view_module_version": "1.2.0",
      "_view_name": "LayoutView",
      "align_content": null,
      "align_items": null,
      "align_self": null,
      "border": null,
      "bottom": null,
      "display": null,
      "flex": null,
      "flex_flow": null,
      "grid_area": null,
      "grid_auto_columns": null,
      "grid_auto_flow": null,
      "grid_auto_rows": null,
      "grid_column": null,
      "grid_gap": null,
      "grid_row": null,
      "grid_template_areas": null,
      "grid_template_columns": null,
      "grid_template_rows": null,
      "height": null,
      "justify_content": null,
      "justify_items": null,
      "left": null,
      "margin": null,
      "max_height": null,
      "max_width": null,
      "min_height": null,
      "min_width": null,
      "object_fit": null,
      "object_position": null,
      "order": null,
      "overflow": null,
      "overflow_x": null,
      "overflow_y": null,
      "padding": null,
      "right": null,
      "top": null,
      "visibility": null,
      "width": null
     }
    },
    "645a0c51fd324ff1b3150595ab363141": {
     "model_module": "@jupyter-widgets/controls",
     "model_module_version": "1.5.0",
     "model_name": "HTMLModel",
     "state": {
      "_dom_classes": [],
      "_model_module": "@jupyter-widgets/controls",
      "_model_module_version": "1.5.0",
      "_model_name": "HTMLModel",
      "_view_count": null,
      "_view_module": "@jupyter-widgets/controls",
      "_view_module_version": "1.5.0",
      "_view_name": "HTMLView",
      "description": "",
      "description_tooltip": null,
      "layout": "IPY_MODEL_1748cf3a590e4c419f47362d42ccac3e",
      "placeholder": "​",
      "style": "IPY_MODEL_39a1a9be8c1f48f79abf26aa682f2408",
      "value": " 495M/495M [00:09&lt;00:00, 57.3MB/s]"
     }
    },
    "6542053fc95240e0bc97d7493c068e5e": {
     "model_module": "@jupyter-widgets/controls",
     "model_module_version": "1.5.0",
     "model_name": "HTMLModel",
     "state": {
      "_dom_classes": [],
      "_model_module": "@jupyter-widgets/controls",
      "_model_module_version": "1.5.0",
      "_model_name": "HTMLModel",
      "_view_count": null,
      "_view_module": "@jupyter-widgets/controls",
      "_view_module_version": "1.5.0",
      "_view_name": "HTMLView",
      "description": "",
      "description_tooltip": null,
      "layout": "IPY_MODEL_9e6d68d5ca934193aa65c891eae90b57",
      "placeholder": "​",
      "style": "IPY_MODEL_0aceba1ce823413bb8fc74002986f22b",
      "value": " 300/300 [15:16&lt;00:00,  2.68s/it]"
     }
    },
    "6a4335666d4049a99fe78b12796fd0bc": {
     "model_module": "@jupyter-widgets/base",
     "model_module_version": "1.2.0",
     "model_name": "LayoutModel",
     "state": {
      "_model_module": "@jupyter-widgets/base",
      "_model_module_version": "1.2.0",
      "_model_name": "LayoutModel",
      "_view_count": null,
      "_view_module": "@jupyter-widgets/base",
      "_view_module_version": "1.2.0",
      "_view_name": "LayoutView",
      "align_content": null,
      "align_items": null,
      "align_self": null,
      "border": null,
      "bottom": null,
      "display": null,
      "flex": null,
      "flex_flow": null,
      "grid_area": null,
      "grid_auto_columns": null,
      "grid_auto_flow": null,
      "grid_auto_rows": null,
      "grid_column": null,
      "grid_gap": null,
      "grid_row": null,
      "grid_template_areas": null,
      "grid_template_columns": null,
      "grid_template_rows": null,
      "height": null,
      "justify_content": null,
      "justify_items": null,
      "left": null,
      "margin": null,
      "max_height": null,
      "max_width": null,
      "min_height": null,
      "min_width": null,
      "object_fit": null,
      "object_position": null,
      "order": null,
      "overflow": null,
      "overflow_x": null,
      "overflow_y": null,
      "padding": null,
      "right": null,
      "top": null,
      "visibility": null,
      "width": null
     }
    },
    "6fae18c5b7b8443da01bee1dccee9aac": {
     "model_module": "@jupyter-widgets/controls",
     "model_module_version": "1.5.0",
     "model_name": "DescriptionStyleModel",
     "state": {
      "_model_module": "@jupyter-widgets/controls",
      "_model_module_version": "1.5.0",
      "_model_name": "DescriptionStyleModel",
      "_view_count": null,
      "_view_module": "@jupyter-widgets/base",
      "_view_module_version": "1.2.0",
      "_view_name": "StyleView",
      "description_width": ""
     }
    },
    "72584b19a7554af082de5b9c4ea6c700": {
     "model_module": "@jupyter-widgets/controls",
     "model_module_version": "1.5.0",
     "model_name": "FloatProgressModel",
     "state": {
      "_dom_classes": [],
      "_model_module": "@jupyter-widgets/controls",
      "_model_module_version": "1.5.0",
      "_model_name": "FloatProgressModel",
      "_view_count": null,
      "_view_module": "@jupyter-widgets/controls",
      "_view_module_version": "1.5.0",
      "_view_name": "ProgressView",
      "bar_style": "success",
      "description": "",
      "description_tooltip": null,
      "layout": "IPY_MODEL_cb7a33feb19f48eb9f20106f76e77fdb",
      "max": 1529,
      "min": 0,
      "orientation": "horizontal",
      "style": "IPY_MODEL_4ef552946a5b44018cc0fe5302a4ff0b",
      "value": 1529
     }
    },
    "73a7a13be8b8439fb2e3771746335fea": {
     "model_module": "@jupyter-widgets/base",
     "model_module_version": "1.2.0",
     "model_name": "LayoutModel",
     "state": {
      "_model_module": "@jupyter-widgets/base",
      "_model_module_version": "1.2.0",
      "_model_name": "LayoutModel",
      "_view_count": null,
      "_view_module": "@jupyter-widgets/base",
      "_view_module_version": "1.2.0",
      "_view_name": "LayoutView",
      "align_content": null,
      "align_items": null,
      "align_self": null,
      "border": null,
      "bottom": null,
      "display": null,
      "flex": null,
      "flex_flow": null,
      "grid_area": null,
      "grid_auto_columns": null,
      "grid_auto_flow": null,
      "grid_auto_rows": null,
      "grid_column": null,
      "grid_gap": null,
      "grid_row": null,
      "grid_template_areas": null,
      "grid_template_columns": null,
      "grid_template_rows": null,
      "height": null,
      "justify_content": null,
      "justify_items": null,
      "left": null,
      "margin": null,
      "max_height": null,
      "max_width": null,
      "min_height": null,
      "min_width": null,
      "object_fit": null,
      "object_position": null,
      "order": null,
      "overflow": null,
      "overflow_x": null,
      "overflow_y": null,
      "padding": null,
      "right": null,
      "top": null,
      "visibility": null,
      "width": null
     }
    },
    "74983141a01b40b8843ba05354699658": {
     "model_module": "@jupyter-widgets/controls",
     "model_module_version": "1.5.0",
     "model_name": "FloatProgressModel",
     "state": {
      "_dom_classes": [],
      "_model_module": "@jupyter-widgets/controls",
      "_model_module_version": "1.5.0",
      "_model_name": "FloatProgressModel",
      "_view_count": null,
      "_view_module": "@jupyter-widgets/controls",
      "_view_module_version": "1.5.0",
      "_view_name": "ProgressView",
      "bar_style": "success",
      "description": "",
      "description_tooltip": null,
      "layout": "IPY_MODEL_2d3a3dbc11ed4ed7b926cb95e8abab0a",
      "max": 7130637,
      "min": 0,
      "orientation": "horizontal",
      "style": "IPY_MODEL_d7faaf3fe82b4da3b3897eebab5e687f",
      "value": 7130637
     }
    },
    "75cf0f57f845409c8324b521ee197d27": {
     "model_module": "@jupyter-widgets/controls",
     "model_module_version": "1.5.0",
     "model_name": "DescriptionStyleModel",
     "state": {
      "_model_module": "@jupyter-widgets/controls",
      "_model_module_version": "1.5.0",
      "_model_name": "DescriptionStyleModel",
      "_view_count": null,
      "_view_module": "@jupyter-widgets/base",
      "_view_module_version": "1.2.0",
      "_view_name": "StyleView",
      "description_width": ""
     }
    },
    "767888803d034445827431ad044d5318": {
     "model_module": "@jupyter-widgets/base",
     "model_module_version": "1.2.0",
     "model_name": "LayoutModel",
     "state": {
      "_model_module": "@jupyter-widgets/base",
      "_model_module_version": "1.2.0",
      "_model_name": "LayoutModel",
      "_view_count": null,
      "_view_module": "@jupyter-widgets/base",
      "_view_module_version": "1.2.0",
      "_view_name": "LayoutView",
      "align_content": null,
      "align_items": null,
      "align_self": null,
      "border": null,
      "bottom": null,
      "display": null,
      "flex": null,
      "flex_flow": null,
      "grid_area": null,
      "grid_auto_columns": null,
      "grid_auto_flow": null,
      "grid_auto_rows": null,
      "grid_column": null,
      "grid_gap": null,
      "grid_row": null,
      "grid_template_areas": null,
      "grid_template_columns": null,
      "grid_template_rows": null,
      "height": null,
      "justify_content": null,
      "justify_items": null,
      "left": null,
      "margin": null,
      "max_height": null,
      "max_width": null,
      "min_height": null,
      "min_width": null,
      "object_fit": null,
      "object_position": null,
      "order": null,
      "overflow": null,
      "overflow_x": null,
      "overflow_y": null,
      "padding": null,
      "right": null,
      "top": null,
      "visibility": null,
      "width": null
     }
    },
    "78fb1adc01b8492e8befd3720ca5cfd9": {
     "model_module": "@jupyter-widgets/base",
     "model_module_version": "1.2.0",
     "model_name": "LayoutModel",
     "state": {
      "_model_module": "@jupyter-widgets/base",
      "_model_module_version": "1.2.0",
      "_model_name": "LayoutModel",
      "_view_count": null,
      "_view_module": "@jupyter-widgets/base",
      "_view_module_version": "1.2.0",
      "_view_name": "LayoutView",
      "align_content": null,
      "align_items": null,
      "align_self": null,
      "border": null,
      "bottom": null,
      "display": null,
      "flex": null,
      "flex_flow": null,
      "grid_area": null,
      "grid_auto_columns": null,
      "grid_auto_flow": null,
      "grid_auto_rows": null,
      "grid_column": null,
      "grid_gap": null,
      "grid_row": null,
      "grid_template_areas": null,
      "grid_template_columns": null,
      "grid_template_rows": null,
      "height": null,
      "justify_content": null,
      "justify_items": null,
      "left": null,
      "margin": null,
      "max_height": null,
      "max_width": null,
      "min_height": null,
      "min_width": null,
      "object_fit": null,
      "object_position": null,
      "order": null,
      "overflow": null,
      "overflow_x": null,
      "overflow_y": null,
      "padding": null,
      "right": null,
      "top": null,
      "visibility": null,
      "width": null
     }
    },
    "8041a062dbd545e99df0d0e6aad8dc5a": {
     "model_module": "@jupyter-widgets/controls",
     "model_module_version": "1.5.0",
     "model_name": "HTMLModel",
     "state": {
      "_dom_classes": [],
      "_model_module": "@jupyter-widgets/controls",
      "_model_module_version": "1.5.0",
      "_model_name": "HTMLModel",
      "_view_count": null,
      "_view_module": "@jupyter-widgets/controls",
      "_view_module_version": "1.5.0",
      "_view_name": "HTMLView",
      "description": "",
      "description_tooltip": null,
      "layout": "IPY_MODEL_cc73fc8ee671472e8f2a527a14265bf7",
      "placeholder": "​",
      "style": "IPY_MODEL_a77dccfc694d4c1b8f5a9fc8b08ce077",
      "value": "Downloading pytorch_model.bin: 100%"
     }
    },
    "82645f7af1c34e33bf9ffb7984fc8afa": {
     "model_module": "@jupyter-widgets/controls",
     "model_module_version": "1.5.0",
     "model_name": "FloatProgressModel",
     "state": {
      "_dom_classes": [],
      "_model_module": "@jupyter-widgets/controls",
      "_model_module_version": "1.5.0",
      "_model_name": "FloatProgressModel",
      "_view_count": null,
      "_view_module": "@jupyter-widgets/controls",
      "_view_module_version": "1.5.0",
      "_view_name": "ProgressView",
      "bar_style": "success",
      "description": "",
      "description_tooltip": null,
      "layout": "IPY_MODEL_149b3c2bcb1f449c96acaaf5b93097bf",
      "max": 495253173,
      "min": 0,
      "orientation": "horizontal",
      "style": "IPY_MODEL_f1103ff312f54887bb617b57c9c7e86e",
      "value": 495253173
     }
    },
    "84e261739b3241868eacd024a91624a3": {
     "model_module": "@jupyter-widgets/base",
     "model_module_version": "1.2.0",
     "model_name": "LayoutModel",
     "state": {
      "_model_module": "@jupyter-widgets/base",
      "_model_module_version": "1.2.0",
      "_model_name": "LayoutModel",
      "_view_count": null,
      "_view_module": "@jupyter-widgets/base",
      "_view_module_version": "1.2.0",
      "_view_name": "LayoutView",
      "align_content": null,
      "align_items": null,
      "align_self": null,
      "border": null,
      "bottom": null,
      "display": null,
      "flex": null,
      "flex_flow": null,
      "grid_area": null,
      "grid_auto_columns": null,
      "grid_auto_flow": null,
      "grid_auto_rows": null,
      "grid_column": null,
      "grid_gap": null,
      "grid_row": null,
      "grid_template_areas": null,
      "grid_template_columns": null,
      "grid_template_rows": null,
      "height": null,
      "justify_content": null,
      "justify_items": null,
      "left": null,
      "margin": null,
      "max_height": null,
      "max_width": null,
      "min_height": null,
      "min_width": null,
      "object_fit": null,
      "object_position": null,
      "order": null,
      "overflow": null,
      "overflow_x": null,
      "overflow_y": null,
      "padding": null,
      "right": null,
      "top": null,
      "visibility": null,
      "width": null
     }
    },
    "873753d4c0f14671a859d926d7884fcc": {
     "model_module": "@jupyter-widgets/controls",
     "model_module_version": "1.5.0",
     "model_name": "ProgressStyleModel",
     "state": {
      "_model_module": "@jupyter-widgets/controls",
      "_model_module_version": "1.5.0",
      "_model_name": "ProgressStyleModel",
      "_view_count": null,
      "_view_module": "@jupyter-widgets/base",
      "_view_module_version": "1.2.0",
      "_view_name": "StyleView",
      "bar_color": null,
      "description_width": ""
     }
    },
    "9186810cd26e4e42adc0f26652584fb9": {
     "model_module": "@jupyter-widgets/base",
     "model_module_version": "1.2.0",
     "model_name": "LayoutModel",
     "state": {
      "_model_module": "@jupyter-widgets/base",
      "_model_module_version": "1.2.0",
      "_model_name": "LayoutModel",
      "_view_count": null,
      "_view_module": "@jupyter-widgets/base",
      "_view_module_version": "1.2.0",
      "_view_name": "LayoutView",
      "align_content": null,
      "align_items": null,
      "align_self": null,
      "border": null,
      "bottom": null,
      "display": null,
      "flex": null,
      "flex_flow": null,
      "grid_area": null,
      "grid_auto_columns": null,
      "grid_auto_flow": null,
      "grid_auto_rows": null,
      "grid_column": null,
      "grid_gap": null,
      "grid_row": null,
      "grid_template_areas": null,
      "grid_template_columns": null,
      "grid_template_rows": null,
      "height": null,
      "justify_content": null,
      "justify_items": null,
      "left": null,
      "margin": null,
      "max_height": null,
      "max_width": null,
      "min_height": null,
      "min_width": null,
      "object_fit": null,
      "object_position": null,
      "order": null,
      "overflow": null,
      "overflow_x": null,
      "overflow_y": null,
      "padding": null,
      "right": null,
      "top": null,
      "visibility": null,
      "width": null
     }
    },
    "92dc6ecc2d134b1e9ad97eb0541329d5": {
     "model_module": "@jupyter-widgets/controls",
     "model_module_version": "1.5.0",
     "model_name": "HBoxModel",
     "state": {
      "_dom_classes": [],
      "_model_module": "@jupyter-widgets/controls",
      "_model_module_version": "1.5.0",
      "_model_name": "HBoxModel",
      "_view_count": null,
      "_view_module": "@jupyter-widgets/controls",
      "_view_module_version": "1.5.0",
      "_view_name": "HBoxView",
      "box_style": "",
      "children": [
       "IPY_MODEL_8041a062dbd545e99df0d0e6aad8dc5a",
       "IPY_MODEL_82645f7af1c34e33bf9ffb7984fc8afa",
       "IPY_MODEL_645a0c51fd324ff1b3150595ab363141"
      ],
      "layout": "IPY_MODEL_5f60e88bb458446a967a7b2fdc34eaec"
     }
    },
    "94157bc0d82049b6ab8e4fff4ec8b051": {
     "model_module": "@jupyter-widgets/base",
     "model_module_version": "1.2.0",
     "model_name": "LayoutModel",
     "state": {
      "_model_module": "@jupyter-widgets/base",
      "_model_module_version": "1.2.0",
      "_model_name": "LayoutModel",
      "_view_count": null,
      "_view_module": "@jupyter-widgets/base",
      "_view_module_version": "1.2.0",
      "_view_name": "LayoutView",
      "align_content": null,
      "align_items": null,
      "align_self": null,
      "border": null,
      "bottom": null,
      "display": null,
      "flex": null,
      "flex_flow": null,
      "grid_area": null,
      "grid_auto_columns": null,
      "grid_auto_flow": null,
      "grid_auto_rows": null,
      "grid_column": null,
      "grid_gap": null,
      "grid_row": null,
      "grid_template_areas": null,
      "grid_template_columns": null,
      "grid_template_rows": null,
      "height": null,
      "justify_content": null,
      "justify_items": null,
      "left": null,
      "margin": null,
      "max_height": null,
      "max_width": null,
      "min_height": null,
      "min_width": null,
      "object_fit": null,
      "object_position": null,
      "order": null,
      "overflow": null,
      "overflow_x": null,
      "overflow_y": null,
      "padding": null,
      "right": null,
      "top": null,
      "visibility": null,
      "width": null
     }
    },
    "9add533567af4aafad92f1aa5d3469d6": {
     "model_module": "@jupyter-widgets/base",
     "model_module_version": "1.2.0",
     "model_name": "LayoutModel",
     "state": {
      "_model_module": "@jupyter-widgets/base",
      "_model_module_version": "1.2.0",
      "_model_name": "LayoutModel",
      "_view_count": null,
      "_view_module": "@jupyter-widgets/base",
      "_view_module_version": "1.2.0",
      "_view_name": "LayoutView",
      "align_content": null,
      "align_items": null,
      "align_self": null,
      "border": null,
      "bottom": null,
      "display": null,
      "flex": null,
      "flex_flow": null,
      "grid_area": null,
      "grid_auto_columns": null,
      "grid_auto_flow": null,
      "grid_auto_rows": null,
      "grid_column": null,
      "grid_gap": null,
      "grid_row": null,
      "grid_template_areas": null,
      "grid_template_columns": null,
      "grid_template_rows": null,
      "height": null,
      "justify_content": null,
      "justify_items": null,
      "left": null,
      "margin": null,
      "max_height": null,
      "max_width": null,
      "min_height": null,
      "min_width": null,
      "object_fit": null,
      "object_position": null,
      "order": null,
      "overflow": null,
      "overflow_x": null,
      "overflow_y": null,
      "padding": null,
      "right": null,
      "top": null,
      "visibility": null,
      "width": null
     }
    },
    "9e6d68d5ca934193aa65c891eae90b57": {
     "model_module": "@jupyter-widgets/base",
     "model_module_version": "1.2.0",
     "model_name": "LayoutModel",
     "state": {
      "_model_module": "@jupyter-widgets/base",
      "_model_module_version": "1.2.0",
      "_model_name": "LayoutModel",
      "_view_count": null,
      "_view_module": "@jupyter-widgets/base",
      "_view_module_version": "1.2.0",
      "_view_name": "LayoutView",
      "align_content": null,
      "align_items": null,
      "align_self": null,
      "border": null,
      "bottom": null,
      "display": null,
      "flex": null,
      "flex_flow": null,
      "grid_area": null,
      "grid_auto_columns": null,
      "grid_auto_flow": null,
      "grid_auto_rows": null,
      "grid_column": null,
      "grid_gap": null,
      "grid_row": null,
      "grid_template_areas": null,
      "grid_template_columns": null,
      "grid_template_rows": null,
      "height": null,
      "justify_content": null,
      "justify_items": null,
      "left": null,
      "margin": null,
      "max_height": null,
      "max_width": null,
      "min_height": null,
      "min_width": null,
      "object_fit": null,
      "object_position": null,
      "order": null,
      "overflow": null,
      "overflow_x": null,
      "overflow_y": null,
      "padding": null,
      "right": null,
      "top": null,
      "visibility": null,
      "width": null
     }
    },
    "9fc772705baa4f3390717f1ae1ab8ffe": {
     "model_module": "@jupyter-widgets/base",
     "model_module_version": "1.2.0",
     "model_name": "LayoutModel",
     "state": {
      "_model_module": "@jupyter-widgets/base",
      "_model_module_version": "1.2.0",
      "_model_name": "LayoutModel",
      "_view_count": null,
      "_view_module": "@jupyter-widgets/base",
      "_view_module_version": "1.2.0",
      "_view_name": "LayoutView",
      "align_content": null,
      "align_items": null,
      "align_self": null,
      "border": null,
      "bottom": null,
      "display": null,
      "flex": null,
      "flex_flow": null,
      "grid_area": null,
      "grid_auto_columns": null,
      "grid_auto_flow": null,
      "grid_auto_rows": null,
      "grid_column": null,
      "grid_gap": null,
      "grid_row": null,
      "grid_template_areas": null,
      "grid_template_columns": null,
      "grid_template_rows": null,
      "height": null,
      "justify_content": null,
      "justify_items": null,
      "left": null,
      "margin": null,
      "max_height": null,
      "max_width": null,
      "min_height": null,
      "min_width": null,
      "object_fit": null,
      "object_position": null,
      "order": null,
      "overflow": null,
      "overflow_x": null,
      "overflow_y": null,
      "padding": null,
      "right": null,
      "top": null,
      "visibility": null,
      "width": null
     }
    },
    "a3f39ed0571243fb9512923e5c523573": {
     "model_module": "@jupyter-widgets/controls",
     "model_module_version": "1.5.0",
     "model_name": "DescriptionStyleModel",
     "state": {
      "_model_module": "@jupyter-widgets/controls",
      "_model_module_version": "1.5.0",
      "_model_name": "DescriptionStyleModel",
      "_view_count": null,
      "_view_module": "@jupyter-widgets/base",
      "_view_module_version": "1.2.0",
      "_view_name": "StyleView",
      "description_width": ""
     }
    },
    "a4b986010063411c8fb95b9a54edaa82": {
     "model_module": "@jupyter-widgets/base",
     "model_module_version": "1.2.0",
     "model_name": "LayoutModel",
     "state": {
      "_model_module": "@jupyter-widgets/base",
      "_model_module_version": "1.2.0",
      "_model_name": "LayoutModel",
      "_view_count": null,
      "_view_module": "@jupyter-widgets/base",
      "_view_module_version": "1.2.0",
      "_view_name": "LayoutView",
      "align_content": null,
      "align_items": null,
      "align_self": null,
      "border": null,
      "bottom": null,
      "display": null,
      "flex": null,
      "flex_flow": null,
      "grid_area": null,
      "grid_auto_columns": null,
      "grid_auto_flow": null,
      "grid_auto_rows": null,
      "grid_column": null,
      "grid_gap": null,
      "grid_row": null,
      "grid_template_areas": null,
      "grid_template_columns": null,
      "grid_template_rows": null,
      "height": null,
      "justify_content": null,
      "justify_items": null,
      "left": null,
      "margin": null,
      "max_height": null,
      "max_width": null,
      "min_height": null,
      "min_width": null,
      "object_fit": null,
      "object_position": null,
      "order": null,
      "overflow": null,
      "overflow_x": null,
      "overflow_y": null,
      "padding": null,
      "right": null,
      "top": null,
      "visibility": null,
      "width": null
     }
    },
    "a77dccfc694d4c1b8f5a9fc8b08ce077": {
     "model_module": "@jupyter-widgets/controls",
     "model_module_version": "1.5.0",
     "model_name": "DescriptionStyleModel",
     "state": {
      "_model_module": "@jupyter-widgets/controls",
      "_model_module_version": "1.5.0",
      "_model_name": "DescriptionStyleModel",
      "_view_count": null,
      "_view_module": "@jupyter-widgets/base",
      "_view_module_version": "1.2.0",
      "_view_name": "StyleView",
      "description_width": ""
     }
    },
    "a8d82df1a22240cea6b818362a16fe72": {
     "model_module": "@jupyter-widgets/controls",
     "model_module_version": "1.5.0",
     "model_name": "DescriptionStyleModel",
     "state": {
      "_model_module": "@jupyter-widgets/controls",
      "_model_module_version": "1.5.0",
      "_model_name": "DescriptionStyleModel",
      "_view_count": null,
      "_view_module": "@jupyter-widgets/base",
      "_view_module_version": "1.2.0",
      "_view_name": "StyleView",
      "description_width": ""
     }
    },
    "abb6249a79fe4c7bb2a8f7b67290e5a4": {
     "model_module": "@jupyter-widgets/controls",
     "model_module_version": "1.5.0",
     "model_name": "HTMLModel",
     "state": {
      "_dom_classes": [],
      "_model_module": "@jupyter-widgets/controls",
      "_model_module_version": "1.5.0",
      "_model_name": "HTMLModel",
      "_view_count": null,
      "_view_module": "@jupyter-widgets/controls",
      "_view_module_version": "1.5.0",
      "_view_name": "HTMLView",
      "description": "",
      "description_tooltip": null,
      "layout": "IPY_MODEL_94157bc0d82049b6ab8e4fff4ec8b051",
      "placeholder": "​",
      "style": "IPY_MODEL_533c791f3d4d48e086f35412c1104707",
      "value": " 7.13M/7.13M [00:00&lt;00:00, 58.3MB/s]"
     }
    },
    "aec3e42523774091be6788b3d22c60fb": {
     "model_module": "@jupyter-widgets/controls",
     "model_module_version": "1.5.0",
     "model_name": "HTMLModel",
     "state": {
      "_dom_classes": [],
      "_model_module": "@jupyter-widgets/controls",
      "_model_module_version": "1.5.0",
      "_model_name": "HTMLModel",
      "_view_count": null,
      "_view_module": "@jupyter-widgets/controls",
      "_view_module_version": "1.5.0",
      "_view_name": "HTMLView",
      "description": "",
      "description_tooltip": null,
      "layout": "IPY_MODEL_4b811ca3d12f479f8650e180669f1313",
      "placeholder": "​",
      "style": "IPY_MODEL_0325563e074744e0a38615f57ee5904c",
      "value": "Downloading (…)neration_config.json: 100%"
     }
    },
    "b3a46e64bb0b4f5fb381cf03d2e8a956": {
     "model_module": "@jupyter-widgets/controls",
     "model_module_version": "1.5.0",
     "model_name": "ProgressStyleModel",
     "state": {
      "_model_module": "@jupyter-widgets/controls",
      "_model_module_version": "1.5.0",
      "_model_name": "ProgressStyleModel",
      "_view_count": null,
      "_view_module": "@jupyter-widgets/base",
      "_view_module_version": "1.2.0",
      "_view_name": "StyleView",
      "bar_color": null,
      "description_width": ""
     }
    },
    "c6aff6a726f844be872ebfbb071bdfc9": {
     "model_module": "@jupyter-widgets/base",
     "model_module_version": "1.2.0",
     "model_name": "LayoutModel",
     "state": {
      "_model_module": "@jupyter-widgets/base",
      "_model_module_version": "1.2.0",
      "_model_name": "LayoutModel",
      "_view_count": null,
      "_view_module": "@jupyter-widgets/base",
      "_view_module_version": "1.2.0",
      "_view_name": "LayoutView",
      "align_content": null,
      "align_items": null,
      "align_self": null,
      "border": null,
      "bottom": null,
      "display": null,
      "flex": null,
      "flex_flow": null,
      "grid_area": null,
      "grid_auto_columns": null,
      "grid_auto_flow": null,
      "grid_auto_rows": null,
      "grid_column": null,
      "grid_gap": null,
      "grid_row": null,
      "grid_template_areas": null,
      "grid_template_columns": null,
      "grid_template_rows": null,
      "height": null,
      "justify_content": null,
      "justify_items": null,
      "left": null,
      "margin": null,
      "max_height": null,
      "max_width": null,
      "min_height": null,
      "min_width": null,
      "object_fit": null,
      "object_position": null,
      "order": null,
      "overflow": null,
      "overflow_x": null,
      "overflow_y": null,
      "padding": null,
      "right": null,
      "top": null,
      "visibility": null,
      "width": null
     }
    },
    "cb7a33feb19f48eb9f20106f76e77fdb": {
     "model_module": "@jupyter-widgets/base",
     "model_module_version": "1.2.0",
     "model_name": "LayoutModel",
     "state": {
      "_model_module": "@jupyter-widgets/base",
      "_model_module_version": "1.2.0",
      "_model_name": "LayoutModel",
      "_view_count": null,
      "_view_module": "@jupyter-widgets/base",
      "_view_module_version": "1.2.0",
      "_view_name": "LayoutView",
      "align_content": null,
      "align_items": null,
      "align_self": null,
      "border": null,
      "bottom": null,
      "display": null,
      "flex": null,
      "flex_flow": null,
      "grid_area": null,
      "grid_auto_columns": null,
      "grid_auto_flow": null,
      "grid_auto_rows": null,
      "grid_column": null,
      "grid_gap": null,
      "grid_row": null,
      "grid_template_areas": null,
      "grid_template_columns": null,
      "grid_template_rows": null,
      "height": null,
      "justify_content": null,
      "justify_items": null,
      "left": null,
      "margin": null,
      "max_height": null,
      "max_width": null,
      "min_height": null,
      "min_width": null,
      "object_fit": null,
      "object_position": null,
      "order": null,
      "overflow": null,
      "overflow_x": null,
      "overflow_y": null,
      "padding": null,
      "right": null,
      "top": null,
      "visibility": null,
      "width": null
     }
    },
    "cc73fc8ee671472e8f2a527a14265bf7": {
     "model_module": "@jupyter-widgets/base",
     "model_module_version": "1.2.0",
     "model_name": "LayoutModel",
     "state": {
      "_model_module": "@jupyter-widgets/base",
      "_model_module_version": "1.2.0",
      "_model_name": "LayoutModel",
      "_view_count": null,
      "_view_module": "@jupyter-widgets/base",
      "_view_module_version": "1.2.0",
      "_view_name": "LayoutView",
      "align_content": null,
      "align_items": null,
      "align_self": null,
      "border": null,
      "bottom": null,
      "display": null,
      "flex": null,
      "flex_flow": null,
      "grid_area": null,
      "grid_auto_columns": null,
      "grid_auto_flow": null,
      "grid_auto_rows": null,
      "grid_column": null,
      "grid_gap": null,
      "grid_row": null,
      "grid_template_areas": null,
      "grid_template_columns": null,
      "grid_template_rows": null,
      "height": null,
      "justify_content": null,
      "justify_items": null,
      "left": null,
      "margin": null,
      "max_height": null,
      "max_width": null,
      "min_height": null,
      "min_width": null,
      "object_fit": null,
      "object_position": null,
      "order": null,
      "overflow": null,
      "overflow_x": null,
      "overflow_y": null,
      "padding": null,
      "right": null,
      "top": null,
      "visibility": null,
      "width": null
     }
    },
    "cfe5e39654724c4f9c077b799739d80c": {
     "model_module": "@jupyter-widgets/base",
     "model_module_version": "1.2.0",
     "model_name": "LayoutModel",
     "state": {
      "_model_module": "@jupyter-widgets/base",
      "_model_module_version": "1.2.0",
      "_model_name": "LayoutModel",
      "_view_count": null,
      "_view_module": "@jupyter-widgets/base",
      "_view_module_version": "1.2.0",
      "_view_name": "LayoutView",
      "align_content": null,
      "align_items": null,
      "align_self": null,
      "border": null,
      "bottom": null,
      "display": null,
      "flex": null,
      "flex_flow": null,
      "grid_area": null,
      "grid_auto_columns": null,
      "grid_auto_flow": null,
      "grid_auto_rows": null,
      "grid_column": null,
      "grid_gap": null,
      "grid_row": null,
      "grid_template_areas": null,
      "grid_template_columns": null,
      "grid_template_rows": null,
      "height": null,
      "justify_content": null,
      "justify_items": null,
      "left": null,
      "margin": null,
      "max_height": null,
      "max_width": null,
      "min_height": null,
      "min_width": null,
      "object_fit": null,
      "object_position": null,
      "order": null,
      "overflow": null,
      "overflow_x": null,
      "overflow_y": null,
      "padding": null,
      "right": null,
      "top": null,
      "visibility": null,
      "width": null
     }
    },
    "d3afd7fa25894abcbd1d1c167155328b": {
     "model_module": "@jupyter-widgets/base",
     "model_module_version": "1.2.0",
     "model_name": "LayoutModel",
     "state": {
      "_model_module": "@jupyter-widgets/base",
      "_model_module_version": "1.2.0",
      "_model_name": "LayoutModel",
      "_view_count": null,
      "_view_module": "@jupyter-widgets/base",
      "_view_module_version": "1.2.0",
      "_view_name": "LayoutView",
      "align_content": null,
      "align_items": null,
      "align_self": null,
      "border": null,
      "bottom": null,
      "display": null,
      "flex": null,
      "flex_flow": null,
      "grid_area": null,
      "grid_auto_columns": null,
      "grid_auto_flow": null,
      "grid_auto_rows": null,
      "grid_column": null,
      "grid_gap": null,
      "grid_row": null,
      "grid_template_areas": null,
      "grid_template_columns": null,
      "grid_template_rows": null,
      "height": null,
      "justify_content": null,
      "justify_items": null,
      "left": null,
      "margin": null,
      "max_height": null,
      "max_width": null,
      "min_height": null,
      "min_width": null,
      "object_fit": null,
      "object_position": null,
      "order": null,
      "overflow": null,
      "overflow_x": null,
      "overflow_y": null,
      "padding": null,
      "right": null,
      "top": null,
      "visibility": null,
      "width": null
     }
    },
    "d501f37eb57c4c688e2d065a87a93181": {
     "model_module": "@jupyter-widgets/controls",
     "model_module_version": "1.5.0",
     "model_name": "HBoxModel",
     "state": {
      "_dom_classes": [],
      "_model_module": "@jupyter-widgets/controls",
      "_model_module_version": "1.5.0",
      "_model_name": "HBoxModel",
      "_view_count": null,
      "_view_module": "@jupyter-widgets/controls",
      "_view_module_version": "1.5.0",
      "_view_name": "HBoxView",
      "box_style": "",
      "children": [
       "IPY_MODEL_aec3e42523774091be6788b3d22c60fb",
       "IPY_MODEL_355867e7dab34bf3b3edbe93ca801cba",
       "IPY_MODEL_dcf92b45322a45ad90111411c26a924f"
      ],
      "layout": "IPY_MODEL_d3afd7fa25894abcbd1d1c167155328b"
     }
    },
    "d7faaf3fe82b4da3b3897eebab5e687f": {
     "model_module": "@jupyter-widgets/controls",
     "model_module_version": "1.5.0",
     "model_name": "ProgressStyleModel",
     "state": {
      "_model_module": "@jupyter-widgets/controls",
      "_model_module_version": "1.5.0",
      "_model_name": "ProgressStyleModel",
      "_view_count": null,
      "_view_module": "@jupyter-widgets/base",
      "_view_module_version": "1.2.0",
      "_view_name": "StyleView",
      "bar_color": null,
      "description_width": ""
     }
    },
    "d837b33f4d1a4a81a929a4d5c4aa810d": {
     "model_module": "@jupyter-widgets/controls",
     "model_module_version": "1.5.0",
     "model_name": "DescriptionStyleModel",
     "state": {
      "_model_module": "@jupyter-widgets/controls",
      "_model_module_version": "1.5.0",
      "_model_name": "DescriptionStyleModel",
      "_view_count": null,
      "_view_module": "@jupyter-widgets/base",
      "_view_module_version": "1.2.0",
      "_view_name": "StyleView",
      "description_width": ""
     }
    },
    "dbace712c4ea4ca2abee59f73e0f8fb8": {
     "model_module": "@jupyter-widgets/controls",
     "model_module_version": "1.5.0",
     "model_name": "HTMLModel",
     "state": {
      "_dom_classes": [],
      "_model_module": "@jupyter-widgets/controls",
      "_model_module_version": "1.5.0",
      "_model_name": "HTMLModel",
      "_view_count": null,
      "_view_module": "@jupyter-widgets/controls",
      "_view_module_version": "1.5.0",
      "_view_name": "HTMLView",
      "description": "",
      "description_tooltip": null,
      "layout": "IPY_MODEL_0fd53e25aa6c42c5b10feaa9de432064",
      "placeholder": "​",
      "style": "IPY_MODEL_52b4f8f975bd483387cadb074045ddf4",
      "value": "Downloading adapter_model.bin: 100%"
     }
    },
    "dcf92b45322a45ad90111411c26a924f": {
     "model_module": "@jupyter-widgets/controls",
     "model_module_version": "1.5.0",
     "model_name": "HTMLModel",
     "state": {
      "_dom_classes": [],
      "_model_module": "@jupyter-widgets/controls",
      "_model_module_version": "1.5.0",
      "_model_name": "HTMLModel",
      "_view_count": null,
      "_view_module": "@jupyter-widgets/controls",
      "_view_module_version": "1.5.0",
      "_view_name": "HTMLView",
      "description": "",
      "description_tooltip": null,
      "layout": "IPY_MODEL_0085f51736c7444f8b340644acf62c7c",
      "placeholder": "​",
      "style": "IPY_MODEL_a8d82df1a22240cea6b818362a16fe72",
      "value": " 112/112 [00:00&lt;00:00, 7.24kB/s]"
     }
    },
    "e00cd0a28a3d443bb953b5d718249236": {
     "model_module": "@jupyter-widgets/controls",
     "model_module_version": "1.5.0",
     "model_name": "HTMLModel",
     "state": {
      "_dom_classes": [],
      "_model_module": "@jupyter-widgets/controls",
      "_model_module_version": "1.5.0",
      "_model_name": "HTMLModel",
      "_view_count": null,
      "_view_module": "@jupyter-widgets/controls",
      "_view_module_version": "1.5.0",
      "_view_name": "HTMLView",
      "description": "",
      "description_tooltip": null,
      "layout": "IPY_MODEL_9186810cd26e4e42adc0f26652584fb9",
      "placeholder": "​",
      "style": "IPY_MODEL_6fae18c5b7b8443da01bee1dccee9aac",
      "value": " 3/3 [00:00&lt;00:00, 99.46it/s]"
     }
    },
    "e3b7464d098a4e46b39dc87b7040608b": {
     "model_module": "@jupyter-widgets/controls",
     "model_module_version": "1.5.0",
     "model_name": "HTMLModel",
     "state": {
      "_dom_classes": [],
      "_model_module": "@jupyter-widgets/controls",
      "_model_module_version": "1.5.0",
      "_model_name": "HTMLModel",
      "_view_count": null,
      "_view_module": "@jupyter-widgets/controls",
      "_view_module_version": "1.5.0",
      "_view_name": "HTMLView",
      "description": "",
      "description_tooltip": null,
      "layout": "IPY_MODEL_9add533567af4aafad92f1aa5d3469d6",
      "placeholder": "​",
      "style": "IPY_MODEL_0c1b441f936b4c1598ac4a2375920a7b",
      "value": "Downloading (…)lve/main/config.json: 100%"
     }
    },
    "e75a8e17a1594794b72f43749464edbe": {
     "model_module": "@jupyter-widgets/controls",
     "model_module_version": "1.5.0",
     "model_name": "ProgressStyleModel",
     "state": {
      "_model_module": "@jupyter-widgets/controls",
      "_model_module_version": "1.5.0",
      "_model_name": "ProgressStyleModel",
      "_view_count": null,
      "_view_module": "@jupyter-widgets/base",
      "_view_module_version": "1.2.0",
      "_view_name": "StyleView",
      "bar_color": null,
      "description_width": ""
     }
    },
    "ec8faa341287459fb06ce4adf4bd7395": {
     "model_module": "@jupyter-widgets/controls",
     "model_module_version": "1.5.0",
     "model_name": "DescriptionStyleModel",
     "state": {
      "_model_module": "@jupyter-widgets/controls",
      "_model_module_version": "1.5.0",
      "_model_name": "DescriptionStyleModel",
      "_view_count": null,
      "_view_module": "@jupyter-widgets/base",
      "_view_module_version": "1.2.0",
      "_view_name": "StyleView",
      "description_width": ""
     }
    },
    "ed2d8d66532940ceb86fbb0de41efd9a": {
     "model_module": "@jupyter-widgets/base",
     "model_module_version": "1.2.0",
     "model_name": "LayoutModel",
     "state": {
      "_model_module": "@jupyter-widgets/base",
      "_model_module_version": "1.2.0",
      "_model_name": "LayoutModel",
      "_view_count": null,
      "_view_module": "@jupyter-widgets/base",
      "_view_module_version": "1.2.0",
      "_view_name": "LayoutView",
      "align_content": null,
      "align_items": null,
      "align_self": null,
      "border": null,
      "bottom": null,
      "display": null,
      "flex": null,
      "flex_flow": null,
      "grid_area": null,
      "grid_auto_columns": null,
      "grid_auto_flow": null,
      "grid_auto_rows": null,
      "grid_column": null,
      "grid_gap": null,
      "grid_row": null,
      "grid_template_areas": null,
      "grid_template_columns": null,
      "grid_template_rows": null,
      "height": null,
      "justify_content": null,
      "justify_items": null,
      "left": null,
      "margin": null,
      "max_height": null,
      "max_width": null,
      "min_height": null,
      "min_width": null,
      "object_fit": null,
      "object_position": null,
      "order": null,
      "overflow": null,
      "overflow_x": null,
      "overflow_y": null,
      "padding": null,
      "right": null,
      "top": null,
      "visibility": null,
      "width": null
     }
    },
    "f1103ff312f54887bb617b57c9c7e86e": {
     "model_module": "@jupyter-widgets/controls",
     "model_module_version": "1.5.0",
     "model_name": "ProgressStyleModel",
     "state": {
      "_model_module": "@jupyter-widgets/controls",
      "_model_module_version": "1.5.0",
      "_model_name": "ProgressStyleModel",
      "_view_count": null,
      "_view_module": "@jupyter-widgets/base",
      "_view_module_version": "1.2.0",
      "_view_name": "StyleView",
      "bar_color": null,
      "description_width": ""
     }
    },
    "f27751680a684bf48572b0be2d7ba4e9": {
     "model_module": "@jupyter-widgets/base",
     "model_module_version": "1.2.0",
     "model_name": "LayoutModel",
     "state": {
      "_model_module": "@jupyter-widgets/base",
      "_model_module_version": "1.2.0",
      "_model_name": "LayoutModel",
      "_view_count": null,
      "_view_module": "@jupyter-widgets/base",
      "_view_module_version": "1.2.0",
      "_view_name": "LayoutView",
      "align_content": null,
      "align_items": null,
      "align_self": null,
      "border": null,
      "bottom": null,
      "display": null,
      "flex": null,
      "flex_flow": null,
      "grid_area": null,
      "grid_auto_columns": null,
      "grid_auto_flow": null,
      "grid_auto_rows": null,
      "grid_column": null,
      "grid_gap": null,
      "grid_row": null,
      "grid_template_areas": null,
      "grid_template_columns": null,
      "grid_template_rows": null,
      "height": null,
      "justify_content": null,
      "justify_items": null,
      "left": null,
      "margin": null,
      "max_height": null,
      "max_width": null,
      "min_height": null,
      "min_width": null,
      "object_fit": null,
      "object_position": null,
      "order": null,
      "overflow": null,
      "overflow_x": null,
      "overflow_y": null,
      "padding": null,
      "right": null,
      "top": null,
      "visibility": null,
      "width": null
     }
    },
    "f74b62296f364cfca80b26fb467e25e3": {
     "model_module": "@jupyter-widgets/controls",
     "model_module_version": "1.5.0",
     "model_name": "FloatProgressModel",
     "state": {
      "_dom_classes": [],
      "_model_module": "@jupyter-widgets/controls",
      "_model_module_version": "1.5.0",
      "_model_name": "FloatProgressModel",
      "_view_count": null,
      "_view_module": "@jupyter-widgets/controls",
      "_view_module_version": "1.5.0",
      "_view_name": "ProgressView",
      "bar_style": "success",
      "description": "",
      "description_tooltip": null,
      "layout": "IPY_MODEL_9fc772705baa4f3390717f1ae1ab8ffe",
      "max": 7130637,
      "min": 0,
      "orientation": "horizontal",
      "style": "IPY_MODEL_b3a46e64bb0b4f5fb381cf03d2e8a956",
      "value": 7130637
     }
    }
   }
  }
 },
 "nbformat": 4,
 "nbformat_minor": 5
}
